{
 "cells": [
  {
   "cell_type": "code",
   "execution_count": null,
   "id": "6a8877ea",
   "metadata": {},
   "outputs": [],
   "source": [
    "# For this part, you are given four options (detailed in next few slides). You can choose any two.\n",
    "#For each of the options, you need to do\n",
    "#exploratory data analysis (show at least 4-5 steps) and explain your learnings about the data fromthese steps\n",
    "#Process the data (i.e. say do value replacement or data standardization), if needed. Explain why or why you did not process the data\n",
    "#Choose independent features/attributes and explain why you chose the ones\n",
    "#Create a model appropriate to the data; you can also create multiple models of the same type or\n",
    "#different types and show the comparison – choose your model and explain why you chose it\n",
    "#Show model’s metrics to help assess the quality of your model\n",
    "#Interpret the model and explain learnings of your model\n",
    "#Write a paragraph explaining your model’s learnings to a non-technical audience\n",
    "\n"
   ]
  },
  {
   "cell_type": "code",
   "execution_count": 1,
   "id": "a26e08f4",
   "metadata": {},
   "outputs": [],
   "source": [
    "#Import Libraries\n",
    "import pandas as pd\n",
    "import seaborn as sns\n",
    "import matplotlib.pyplot as plt\n",
    "import numpy as np\n",
    "\n",
    "\n",
    "%matplotlib inline"
   ]
  },
  {
   "cell_type": "code",
   "execution_count": 3,
   "id": "87b59f0a",
   "metadata": {},
   "outputs": [],
   "source": [
    "donate = pd.read_excel('donations.xlsx')\n"
   ]
  },
  {
   "cell_type": "code",
   "execution_count": 4,
   "id": "8e7c3a2f",
   "metadata": {},
   "outputs": [
    {
     "data": {
      "text/html": [
       "<div>\n",
       "<style scoped>\n",
       "    .dataframe tbody tr th:only-of-type {\n",
       "        vertical-align: middle;\n",
       "    }\n",
       "\n",
       "    .dataframe tbody tr th {\n",
       "        vertical-align: top;\n",
       "    }\n",
       "\n",
       "    .dataframe thead th {\n",
       "        text-align: right;\n",
       "    }\n",
       "</style>\n",
       "<table border=\"1\" class=\"dataframe\">\n",
       "  <thead>\n",
       "    <tr style=\"text-align: right;\">\n",
       "      <th></th>\n",
       "      <th>Gender_Caller</th>\n",
       "      <th>Gender_Callee</th>\n",
       "      <th>Time_Slot_Called</th>\n",
       "      <th>Graduation_year</th>\n",
       "      <th>Donated_in_past</th>\n",
       "      <th>Donated_Amount</th>\n",
       "      <th>From_California</th>\n",
       "      <th>Day_ofCalling</th>\n",
       "    </tr>\n",
       "  </thead>\n",
       "  <tbody>\n",
       "    <tr>\n",
       "      <th>0</th>\n",
       "      <td>F</td>\n",
       "      <td>M</td>\n",
       "      <td>5PM-9PM</td>\n",
       "      <td>2004.0</td>\n",
       "      <td>N</td>\n",
       "      <td>25.00</td>\n",
       "      <td>Y</td>\n",
       "      <td>TUESDAY</td>\n",
       "    </tr>\n",
       "    <tr>\n",
       "      <th>1</th>\n",
       "      <td>F</td>\n",
       "      <td>F</td>\n",
       "      <td>5PM-9PM</td>\n",
       "      <td>1986.0</td>\n",
       "      <td>Y</td>\n",
       "      <td>20.00</td>\n",
       "      <td>Y</td>\n",
       "      <td>TUESDAY</td>\n",
       "    </tr>\n",
       "    <tr>\n",
       "      <th>2</th>\n",
       "      <td>F</td>\n",
       "      <td>F</td>\n",
       "      <td>5PM-9PM</td>\n",
       "      <td>2007.0</td>\n",
       "      <td>N</td>\n",
       "      <td>25.00</td>\n",
       "      <td>Y</td>\n",
       "      <td>TUESDAY</td>\n",
       "    </tr>\n",
       "    <tr>\n",
       "      <th>3</th>\n",
       "      <td>NaN</td>\n",
       "      <td>F</td>\n",
       "      <td>5PM-9PM</td>\n",
       "      <td>2008.0</td>\n",
       "      <td>N</td>\n",
       "      <td>20.00</td>\n",
       "      <td>Y</td>\n",
       "      <td>TUESDAY</td>\n",
       "    </tr>\n",
       "    <tr>\n",
       "      <th>4</th>\n",
       "      <td>F</td>\n",
       "      <td>F</td>\n",
       "      <td>5PM-9PM</td>\n",
       "      <td>2008.0</td>\n",
       "      <td>N</td>\n",
       "      <td>20.08</td>\n",
       "      <td>Y</td>\n",
       "      <td>TUESDAY</td>\n",
       "    </tr>\n",
       "    <tr>\n",
       "      <th>5</th>\n",
       "      <td>F</td>\n",
       "      <td>M</td>\n",
       "      <td>5PM-9PM</td>\n",
       "      <td>2008.0</td>\n",
       "      <td>N</td>\n",
       "      <td>20.08</td>\n",
       "      <td>Y</td>\n",
       "      <td>TUESDAY</td>\n",
       "    </tr>\n",
       "    <tr>\n",
       "      <th>6</th>\n",
       "      <td>F</td>\n",
       "      <td>F</td>\n",
       "      <td>5PM-9PM</td>\n",
       "      <td>2008.0</td>\n",
       "      <td>N</td>\n",
       "      <td>5.00</td>\n",
       "      <td>Y</td>\n",
       "      <td>TUESDAY</td>\n",
       "    </tr>\n",
       "    <tr>\n",
       "      <th>7</th>\n",
       "      <td>F</td>\n",
       "      <td>M</td>\n",
       "      <td>5PM-9PM</td>\n",
       "      <td>2003.0</td>\n",
       "      <td>N</td>\n",
       "      <td>25.00</td>\n",
       "      <td>Y</td>\n",
       "      <td>TUESDAY</td>\n",
       "    </tr>\n",
       "    <tr>\n",
       "      <th>8</th>\n",
       "      <td>F</td>\n",
       "      <td>F</td>\n",
       "      <td>5PM-9PM</td>\n",
       "      <td>2004.0</td>\n",
       "      <td>Y</td>\n",
       "      <td>20.00</td>\n",
       "      <td>Y</td>\n",
       "      <td>TUESDAY</td>\n",
       "    </tr>\n",
       "    <tr>\n",
       "      <th>9</th>\n",
       "      <td>F</td>\n",
       "      <td>M</td>\n",
       "      <td>5PM-9PM</td>\n",
       "      <td>2007.0</td>\n",
       "      <td>N</td>\n",
       "      <td>5.00</td>\n",
       "      <td>Y</td>\n",
       "      <td>TUESDAY</td>\n",
       "    </tr>\n",
       "  </tbody>\n",
       "</table>\n",
       "</div>"
      ],
      "text/plain": [
       "  Gender_Caller Gender_Callee Time_Slot_Called  Graduation_year  \\\n",
       "0             F             M          5PM-9PM           2004.0   \n",
       "1             F             F          5PM-9PM           1986.0   \n",
       "2             F             F          5PM-9PM           2007.0   \n",
       "3           NaN             F          5PM-9PM           2008.0   \n",
       "4             F             F          5PM-9PM           2008.0   \n",
       "5             F             M          5PM-9PM           2008.0   \n",
       "6             F             F          5PM-9PM           2008.0   \n",
       "7             F             M          5PM-9PM           2003.0   \n",
       "8             F             F          5PM-9PM           2004.0   \n",
       "9             F             M          5PM-9PM           2007.0   \n",
       "\n",
       "  Donated_in_past  Donated_Amount From_California Day_ofCalling  \n",
       "0               N           25.00               Y       TUESDAY  \n",
       "1               Y           20.00               Y       TUESDAY  \n",
       "2               N           25.00               Y       TUESDAY  \n",
       "3               N           20.00               Y       TUESDAY  \n",
       "4               N           20.08               Y       TUESDAY  \n",
       "5               N           20.08               Y       TUESDAY  \n",
       "6               N            5.00               Y       TUESDAY  \n",
       "7               N           25.00               Y       TUESDAY  \n",
       "8               Y           20.00               Y       TUESDAY  \n",
       "9               N            5.00               Y       TUESDAY  "
      ]
     },
     "execution_count": 4,
     "metadata": {},
     "output_type": "execute_result"
    }
   ],
   "source": [
    "donate.head(10)"
   ]
  },
  {
   "cell_type": "code",
   "execution_count": 5,
   "id": "da20c743",
   "metadata": {},
   "outputs": [
    {
     "name": "stdout",
     "output_type": "stream",
     "text": [
      "<class 'pandas.core.frame.DataFrame'>\n",
      "RangeIndex: 194 entries, 0 to 193\n",
      "Data columns (total 8 columns):\n",
      " #   Column            Non-Null Count  Dtype  \n",
      "---  ------            --------------  -----  \n",
      " 0   Gender_Caller     152 non-null    object \n",
      " 1   Gender_Callee     194 non-null    object \n",
      " 2   Time_Slot_Called  194 non-null    object \n",
      " 3   Graduation_year   182 non-null    float64\n",
      " 4   Donated_in_past   183 non-null    object \n",
      " 5   Donated_Amount    194 non-null    float64\n",
      " 6   From_California   194 non-null    object \n",
      " 7   Day_ofCalling     194 non-null    object \n",
      "dtypes: float64(2), object(6)\n",
      "memory usage: 12.2+ KB\n"
     ]
    }
   ],
   "source": [
    "#using info, we can see there are 194 data entries with several null values in Gender)Caller, Graduation_year and Donated_in_past\n",
    "\n",
    "donate.info()"
   ]
  },
  {
   "cell_type": "code",
   "execution_count": 6,
   "id": "83d25622",
   "metadata": {},
   "outputs": [
    {
     "data": {
      "text/html": [
       "<div>\n",
       "<style scoped>\n",
       "    .dataframe tbody tr th:only-of-type {\n",
       "        vertical-align: middle;\n",
       "    }\n",
       "\n",
       "    .dataframe tbody tr th {\n",
       "        vertical-align: top;\n",
       "    }\n",
       "\n",
       "    .dataframe thead th {\n",
       "        text-align: right;\n",
       "    }\n",
       "</style>\n",
       "<table border=\"1\" class=\"dataframe\">\n",
       "  <thead>\n",
       "    <tr style=\"text-align: right;\">\n",
       "      <th></th>\n",
       "      <th>Graduation_year</th>\n",
       "      <th>Donated_Amount</th>\n",
       "    </tr>\n",
       "  </thead>\n",
       "  <tbody>\n",
       "    <tr>\n",
       "      <th>count</th>\n",
       "      <td>182.000000</td>\n",
       "      <td>194.000000</td>\n",
       "    </tr>\n",
       "    <tr>\n",
       "      <th>mean</th>\n",
       "      <td>1986.439560</td>\n",
       "      <td>10.273814</td>\n",
       "    </tr>\n",
       "    <tr>\n",
       "      <th>std</th>\n",
       "      <td>20.749071</td>\n",
       "      <td>23.640439</td>\n",
       "    </tr>\n",
       "    <tr>\n",
       "      <th>min</th>\n",
       "      <td>1940.000000</td>\n",
       "      <td>0.000000</td>\n",
       "    </tr>\n",
       "    <tr>\n",
       "      <th>25%</th>\n",
       "      <td>1971.000000</td>\n",
       "      <td>0.000000</td>\n",
       "    </tr>\n",
       "    <tr>\n",
       "      <th>50%</th>\n",
       "      <td>1989.000000</td>\n",
       "      <td>0.000000</td>\n",
       "    </tr>\n",
       "    <tr>\n",
       "      <th>75%</th>\n",
       "      <td>2008.000000</td>\n",
       "      <td>14.250000</td>\n",
       "    </tr>\n",
       "    <tr>\n",
       "      <th>max</th>\n",
       "      <td>2008.000000</td>\n",
       "      <td>200.000000</td>\n",
       "    </tr>\n",
       "  </tbody>\n",
       "</table>\n",
       "</div>"
      ],
      "text/plain": [
       "       Graduation_year  Donated_Amount\n",
       "count       182.000000      194.000000\n",
       "mean       1986.439560       10.273814\n",
       "std          20.749071       23.640439\n",
       "min        1940.000000        0.000000\n",
       "25%        1971.000000        0.000000\n",
       "50%        1989.000000        0.000000\n",
       "75%        2008.000000       14.250000\n",
       "max        2008.000000      200.000000"
      ]
     },
     "execution_count": 6,
     "metadata": {},
     "output_type": "execute_result"
    }
   ],
   "source": [
    "#finding basic parameters of our numerical data\n",
    "#the largest donated amount in our database is $194. However, the data does not appear to be normally distributed: the average is $10 but 50% of our data is 0. \n",
    "donate.describe()"
   ]
  },
  {
   "cell_type": "code",
   "execution_count": 134,
   "id": "f823a2d7",
   "metadata": {},
   "outputs": [
    {
     "data": {
      "image/png": "[encoded data removed]",
      "text/plain": [
       "<Figure size 432x288 with 1 Axes>"
      ]
     },
     "metadata": {
      "needs_background": "light"
     },
     "output_type": "display_data"
    }
   ],
   "source": [
    "x= donate[['Donated_Amount']]\n",
    "\n",
    "plt.hist(x)\n",
    "plt.ylabel(\"Frequency of donation\")\n",
    "plt.xlabel(\"Donated Amount ($)\")\n",
    "plt.title(\"Histogram to show frequency of donated amount\");\n",
    "\n"
   ]
  },
  {
   "cell_type": "code",
   "execution_count": 138,
   "id": "e0a2ebe9",
   "metadata": {},
   "outputs": [
    {
     "name": "stdout",
     "output_type": "stream",
     "text": [
      "4.45\n"
     ]
    }
   ],
   "source": [
    "#A skew test corroborates the visualisation that the value is left (ie. positively) skewed.\n",
    "#Over 0.5 suggests high positive skew. The skew test value is substantially over 1, suggesting highly positively skewed data\n",
    "\n",
    "from scipy.stats import skew\n",
    "print(round(skew(donate['Donated_Amount']),3))\n",
    "\n"
   ]
  },
  {
   "cell_type": "code",
   "execution_count": 38,
   "id": "0ac297b8",
   "metadata": {},
   "outputs": [
    {
     "data": {
      "text/plain": [
       "Gender_Caller        78\n",
       "Gender_Callee       115\n",
       "Time_Slot_Called    115\n",
       "Graduation_year     114\n",
       "Donated_in_past     115\n",
       "Donated_Amount      115\n",
       "From_California     115\n",
       "Day_ofCalling       115\n",
       "dtype: int64"
      ]
     },
     "execution_count": 38,
     "metadata": {},
     "output_type": "execute_result"
    }
   ],
   "source": [
    "#Part of the reason for this skew is that 115 people did not donate. This amounts to over half of our data set.\n",
    "\n",
    "donate[donate['Donated_Amount']==0].count()"
   ]
  },
  {
   "cell_type": "code",
   "execution_count": 12,
   "id": "1af33d23",
   "metadata": {},
   "outputs": [
    {
     "data": {
      "text/plain": [
       "TUESDAY     91\n",
       "SUNDAY      55\n",
       "SATURDAY    48\n",
       "Name: Day_ofCalling, dtype: int64"
      ]
     },
     "execution_count": 12,
     "metadata": {},
     "output_type": "execute_result"
    }
   ],
   "source": [
    "#understanding what days donors are called and how many times they are called in each\n",
    "\n",
    "donate['Day_ofCalling'].value_counts()\n",
    "\n"
   ]
  },
  {
   "cell_type": "code",
   "execution_count": null,
   "id": "fb7bab13",
   "metadata": {},
   "outputs": [],
   "source": []
  },
  {
   "cell_type": "code",
   "execution_count": 139,
   "id": "e9c99d69",
   "metadata": {},
   "outputs": [
    {
     "data": {
      "text/html": [
       "<div>\n",
       "<style scoped>\n",
       "    .dataframe tbody tr th:only-of-type {\n",
       "        vertical-align: middle;\n",
       "    }\n",
       "\n",
       "    .dataframe tbody tr th {\n",
       "        vertical-align: top;\n",
       "    }\n",
       "\n",
       "    .dataframe thead tr th {\n",
       "        text-align: left;\n",
       "    }\n",
       "\n",
       "    .dataframe thead tr:last-of-type th {\n",
       "        text-align: right;\n",
       "    }\n",
       "</style>\n",
       "<table border=\"1\" class=\"dataframe\">\n",
       "  <thead>\n",
       "    <tr>\n",
       "      <th></th>\n",
       "      <th colspan=\"3\" halign=\"left\">Donated_Amount</th>\n",
       "    </tr>\n",
       "    <tr>\n",
       "      <th></th>\n",
       "      <th>sum</th>\n",
       "      <th>mean</th>\n",
       "      <th>amax</th>\n",
       "    </tr>\n",
       "    <tr>\n",
       "      <th>Day_ofCalling</th>\n",
       "      <th></th>\n",
       "      <th></th>\n",
       "      <th></th>\n",
       "    </tr>\n",
       "  </thead>\n",
       "  <tbody>\n",
       "    <tr>\n",
       "      <th>SATURDAY</th>\n",
       "      <td>50.00</td>\n",
       "      <td>1.041667</td>\n",
       "      <td>25.0</td>\n",
       "    </tr>\n",
       "    <tr>\n",
       "      <th>SUNDAY</th>\n",
       "      <td>976.84</td>\n",
       "      <td>17.760727</td>\n",
       "      <td>200.0</td>\n",
       "    </tr>\n",
       "    <tr>\n",
       "      <th>TUESDAY</th>\n",
       "      <td>966.28</td>\n",
       "      <td>10.618462</td>\n",
       "      <td>100.0</td>\n",
       "    </tr>\n",
       "  </tbody>\n",
       "</table>\n",
       "</div>"
      ],
      "text/plain": [
       "              Donated_Amount                  \n",
       "                         sum       mean   amax\n",
       "Day_ofCalling                                 \n",
       "SATURDAY               50.00   1.041667   25.0\n",
       "SUNDAY                976.84  17.760727  200.0\n",
       "TUESDAY               966.28  10.618462  100.0"
      ]
     },
     "execution_count": 139,
     "metadata": {},
     "output_type": "execute_result"
    }
   ],
   "source": [
    "#understanding how much is donated in total on each day of calling, the average and the maximum donation\n",
    "\n",
    "donate.groupby(['Day_ofCalling']).agg({'Donated_Amount': [np.sum, np.mean, np.max]})"
   ]
  },
  {
   "cell_type": "code",
   "execution_count": 140,
   "id": "76077930",
   "metadata": {},
   "outputs": [
    {
     "data": {
      "text/plain": [
       "19.52"
      ]
     },
     "execution_count": 140,
     "metadata": {},
     "output_type": "execute_result"
    }
   ],
   "source": [
    "#from the data, there is a strong suggestion that future donor calls should not take place on Saturday as less money is raised and the average donation is much lower than on other days.\n",
    "#This is despite the fact that a similar number of donors are reached on Sunday (where $976 was raised with 55 calls) and Saturday (where $50 = 19.5 times less - was raised with 48 calls) )\n",
    "976/50"
   ]
  },
  {
   "cell_type": "code",
   "execution_count": 141,
   "id": "7efb0c63",
   "metadata": {},
   "outputs": [
    {
     "data": {
      "text/plain": [
       "M    128\n",
       "F     66\n",
       "Name: Gender_Callee, dtype: int64"
      ]
     },
     "execution_count": 141,
     "metadata": {},
     "output_type": "execute_result"
    }
   ],
   "source": [
    "#understanding the categorical data\n",
    "\n",
    "donate['Gender_Callee'].value_counts()"
   ]
  },
  {
   "cell_type": "code",
   "execution_count": 142,
   "id": "742c3b32",
   "metadata": {},
   "outputs": [
    {
     "data": {
      "text/html": [
       "<div>\n",
       "<style scoped>\n",
       "    .dataframe tbody tr th:only-of-type {\n",
       "        vertical-align: middle;\n",
       "    }\n",
       "\n",
       "    .dataframe tbody tr th {\n",
       "        vertical-align: top;\n",
       "    }\n",
       "\n",
       "    .dataframe thead tr th {\n",
       "        text-align: left;\n",
       "    }\n",
       "\n",
       "    .dataframe thead tr:last-of-type th {\n",
       "        text-align: right;\n",
       "    }\n",
       "</style>\n",
       "<table border=\"1\" class=\"dataframe\">\n",
       "  <thead>\n",
       "    <tr>\n",
       "      <th></th>\n",
       "      <th colspan=\"3\" halign=\"left\">Donated_Amount</th>\n",
       "    </tr>\n",
       "    <tr>\n",
       "      <th></th>\n",
       "      <th>mean</th>\n",
       "      <th>amax</th>\n",
       "      <th>sum</th>\n",
       "    </tr>\n",
       "    <tr>\n",
       "      <th>Gender_Callee</th>\n",
       "      <th></th>\n",
       "      <th></th>\n",
       "      <th></th>\n",
       "    </tr>\n",
       "  </thead>\n",
       "  <tbody>\n",
       "    <tr>\n",
       "      <th>F</th>\n",
       "      <td>9.629697</td>\n",
       "      <td>100.0</td>\n",
       "      <td>635.56</td>\n",
       "    </tr>\n",
       "    <tr>\n",
       "      <th>M</th>\n",
       "      <td>10.605937</td>\n",
       "      <td>200.0</td>\n",
       "      <td>1357.56</td>\n",
       "    </tr>\n",
       "  </tbody>\n",
       "</table>\n",
       "</div>"
      ],
      "text/plain": [
       "              Donated_Amount                \n",
       "                        mean   amax      sum\n",
       "Gender_Callee                               \n",
       "F                   9.629697  100.0   635.56\n",
       "M                  10.605937  200.0  1357.56"
      ]
     },
     "execution_count": 142,
     "metadata": {},
     "output_type": "execute_result"
    }
   ],
   "source": [
    "#observing differences between male and female donors.\n",
    "\n",
    "donate.groupby(\"Gender_Callee\").agg({'Donated_Amount': [np.mean,np.max, np.sum]})"
   ]
  },
  {
   "cell_type": "code",
   "execution_count": 148,
   "id": "123a5113",
   "metadata": {},
   "outputs": [
    {
     "data": {
      "text/plain": [
       "M    47\n",
       "F    32\n",
       "Name: Gender_Callee, dtype: int64"
      ]
     },
     "execution_count": 148,
     "metadata": {},
     "output_type": "execute_result"
    }
   ],
   "source": [
    "donated = donate[donate['Donated_Amount']>0]\n",
    "donated['Gender_Callee'].value_counts()"
   ]
  },
  {
   "cell_type": "code",
   "execution_count": 147,
   "id": "7d078987",
   "metadata": {},
   "outputs": [
    {
     "name": "stdout",
     "output_type": "stream",
     "text": [
      "0.3671875\n",
      "0.48484848484848486\n"
     ]
    }
   ],
   "source": [
    "\n",
    "print(47/128)\n",
    "print(32/66)\n"
   ]
  },
  {
   "cell_type": "code",
   "execution_count": null,
   "id": "7e3fa84b",
   "metadata": {},
   "outputs": [],
   "source": [
    "#Far more men were phoned than women (almost double)\n",
    "#The largest donation was made by a man and the total raised by male donors was over double women\n",
    "#However, 48% of women phoned donated compared to only 37% of men\n",
    "#The Average amount donated by men is higher than women, but only by $1\n",
    "#Future donor calls should address the gender imbalance in Gender Callee as this could improve donation hit rates\n"
   ]
  },
  {
   "cell_type": "code",
   "execution_count": 31,
   "id": "3259f34f",
   "metadata": {},
   "outputs": [
    {
     "data": {
      "text/plain": [
       "Y    182\n",
       "N     12\n",
       "Name: From_California, dtype: int64"
      ]
     },
     "execution_count": 31,
     "metadata": {},
     "output_type": "execute_result"
    }
   ],
   "source": [
    "#understanding the categorical data\n",
    "\n",
    "donate['From_California'].value_counts()"
   ]
  },
  {
   "cell_type": "code",
   "execution_count": 32,
   "id": "c1cee454",
   "metadata": {},
   "outputs": [
    {
     "data": {
      "text/html": [
       "<div>\n",
       "<style scoped>\n",
       "    .dataframe tbody tr th:only-of-type {\n",
       "        vertical-align: middle;\n",
       "    }\n",
       "\n",
       "    .dataframe tbody tr th {\n",
       "        vertical-align: top;\n",
       "    }\n",
       "\n",
       "    .dataframe thead tr th {\n",
       "        text-align: left;\n",
       "    }\n",
       "\n",
       "    .dataframe thead tr:last-of-type th {\n",
       "        text-align: right;\n",
       "    }\n",
       "</style>\n",
       "<table border=\"1\" class=\"dataframe\">\n",
       "  <thead>\n",
       "    <tr>\n",
       "      <th></th>\n",
       "      <th colspan=\"2\" halign=\"left\">Donated_Amount</th>\n",
       "    </tr>\n",
       "    <tr>\n",
       "      <th></th>\n",
       "      <th>mean</th>\n",
       "      <th>amax</th>\n",
       "    </tr>\n",
       "    <tr>\n",
       "      <th>From_California</th>\n",
       "      <th></th>\n",
       "      <th></th>\n",
       "    </tr>\n",
       "  </thead>\n",
       "  <tbody>\n",
       "    <tr>\n",
       "      <th>N</th>\n",
       "      <td>7.923333</td>\n",
       "      <td>50.0</td>\n",
       "    </tr>\n",
       "    <tr>\n",
       "      <th>Y</th>\n",
       "      <td>10.428791</td>\n",
       "      <td>200.0</td>\n",
       "    </tr>\n",
       "  </tbody>\n",
       "</table>\n",
       "</div>"
      ],
      "text/plain": [
       "                Donated_Amount       \n",
       "                          mean   amax\n",
       "From_California                      \n",
       "N                     7.923333   50.0\n",
       "Y                    10.428791  200.0"
      ]
     },
     "execution_count": 32,
     "metadata": {},
     "output_type": "execute_result"
    }
   ],
   "source": [
    "#observing differences between California and not\n",
    "\n",
    "donate.groupby(\"From_California\").agg({'Donated_Amount': [np.mean,np.max]})"
   ]
  },
  {
   "cell_type": "code",
   "execution_count": 149,
   "id": "77ab7d55",
   "metadata": {},
   "outputs": [
    {
     "data": {
      "text/plain": [
       "Y    76\n",
       "N     3\n",
       "Name: From_California, dtype: int64"
      ]
     },
     "execution_count": 149,
     "metadata": {},
     "output_type": "execute_result"
    }
   ],
   "source": [
    "donated['From_California'].value_counts()"
   ]
  },
  {
   "cell_type": "code",
   "execution_count": 150,
   "id": "a7575411",
   "metadata": {},
   "outputs": [
    {
     "name": "stdout",
     "output_type": "stream",
     "text": [
      "0.4175824175824176\n",
      "0.25\n"
     ]
    }
   ],
   "source": [
    "print(76/182)\n",
    "print(3/12)"
   ]
  },
  {
   "cell_type": "code",
   "execution_count": null,
   "id": "c2100053",
   "metadata": {},
   "outputs": [],
   "source": [
    "#Californians also donate more money on average and the difference between maximum cheque size between Californians and non is very large\n",
    "#Callers should focus on Californians as they will have a higher donation hit rate (41% of Californians donated vs. 25% of non-californians)\n"
   ]
  },
  {
   "cell_type": "code",
   "execution_count": 42,
   "id": "b19ebe91",
   "metadata": {},
   "outputs": [
    {
     "data": {
      "text/html": [
       "<div>\n",
       "<style scoped>\n",
       "    .dataframe tbody tr th:only-of-type {\n",
       "        vertical-align: middle;\n",
       "    }\n",
       "\n",
       "    .dataframe tbody tr th {\n",
       "        vertical-align: top;\n",
       "    }\n",
       "\n",
       "    .dataframe thead th {\n",
       "        text-align: right;\n",
       "    }\n",
       "</style>\n",
       "<table border=\"1\" class=\"dataframe\">\n",
       "  <thead>\n",
       "    <tr style=\"text-align: right;\">\n",
       "      <th></th>\n",
       "      <th>Gender_Caller</th>\n",
       "      <th>Gender_Callee</th>\n",
       "      <th>Time_Slot_Called</th>\n",
       "      <th>Graduation_year</th>\n",
       "      <th>Donated_in_past</th>\n",
       "      <th>Donated_Amount</th>\n",
       "      <th>From_California</th>\n",
       "      <th>Day_ofCalling</th>\n",
       "      <th>donates</th>\n",
       "    </tr>\n",
       "  </thead>\n",
       "  <tbody>\n",
       "    <tr>\n",
       "      <th>96</th>\n",
       "      <td>NaN</td>\n",
       "      <td>M</td>\n",
       "      <td>12AM-4PM</td>\n",
       "      <td>1977.0</td>\n",
       "      <td>N</td>\n",
       "      <td>0.0</td>\n",
       "      <td>Y</td>\n",
       "      <td>SATURDAY</td>\n",
       "      <td>0</td>\n",
       "    </tr>\n",
       "    <tr>\n",
       "      <th>102</th>\n",
       "      <td>NaN</td>\n",
       "      <td>M</td>\n",
       "      <td>12AM-4PM</td>\n",
       "      <td>1983.0</td>\n",
       "      <td>N</td>\n",
       "      <td>0.0</td>\n",
       "      <td>Y</td>\n",
       "      <td>SATURDAY</td>\n",
       "      <td>0</td>\n",
       "    </tr>\n",
       "    <tr>\n",
       "      <th>103</th>\n",
       "      <td>NaN</td>\n",
       "      <td>F</td>\n",
       "      <td>12AM-4PM</td>\n",
       "      <td>1983.0</td>\n",
       "      <td>N</td>\n",
       "      <td>0.0</td>\n",
       "      <td>Y</td>\n",
       "      <td>SATURDAY</td>\n",
       "      <td>0</td>\n",
       "    </tr>\n",
       "    <tr>\n",
       "      <th>104</th>\n",
       "      <td>NaN</td>\n",
       "      <td>M</td>\n",
       "      <td>12AM-4PM</td>\n",
       "      <td>1958.0</td>\n",
       "      <td>N</td>\n",
       "      <td>0.0</td>\n",
       "      <td>Y</td>\n",
       "      <td>SATURDAY</td>\n",
       "      <td>0</td>\n",
       "    </tr>\n",
       "    <tr>\n",
       "      <th>105</th>\n",
       "      <td>NaN</td>\n",
       "      <td>F</td>\n",
       "      <td>12AM-4PM</td>\n",
       "      <td>2001.0</td>\n",
       "      <td>N</td>\n",
       "      <td>0.0</td>\n",
       "      <td>Y</td>\n",
       "      <td>SATURDAY</td>\n",
       "      <td>0</td>\n",
       "    </tr>\n",
       "    <tr>\n",
       "      <th>...</th>\n",
       "      <td>...</td>\n",
       "      <td>...</td>\n",
       "      <td>...</td>\n",
       "      <td>...</td>\n",
       "      <td>...</td>\n",
       "      <td>...</td>\n",
       "      <td>...</td>\n",
       "      <td>...</td>\n",
       "      <td>...</td>\n",
       "    </tr>\n",
       "    <tr>\n",
       "      <th>143</th>\n",
       "      <td>F</td>\n",
       "      <td>M</td>\n",
       "      <td>5PM-9PM</td>\n",
       "      <td>2002.0</td>\n",
       "      <td>Y</td>\n",
       "      <td>100.0</td>\n",
       "      <td>Y</td>\n",
       "      <td>SUNDAY</td>\n",
       "      <td>1</td>\n",
       "    </tr>\n",
       "    <tr>\n",
       "      <th>159</th>\n",
       "      <td>F</td>\n",
       "      <td>M</td>\n",
       "      <td>5PM-9PM</td>\n",
       "      <td>1967.0</td>\n",
       "      <td>Y</td>\n",
       "      <td>100.0</td>\n",
       "      <td>Y</td>\n",
       "      <td>SUNDAY</td>\n",
       "      <td>1</td>\n",
       "    </tr>\n",
       "    <tr>\n",
       "      <th>20</th>\n",
       "      <td>F</td>\n",
       "      <td>F</td>\n",
       "      <td>5PM-9PM</td>\n",
       "      <td>NaN</td>\n",
       "      <td>NaN</td>\n",
       "      <td>100.0</td>\n",
       "      <td>Y</td>\n",
       "      <td>TUESDAY</td>\n",
       "      <td>1</td>\n",
       "    </tr>\n",
       "    <tr>\n",
       "      <th>154</th>\n",
       "      <td>F</td>\n",
       "      <td>M</td>\n",
       "      <td>5PM-9PM</td>\n",
       "      <td>1976.0</td>\n",
       "      <td>Y</td>\n",
       "      <td>100.0</td>\n",
       "      <td>Y</td>\n",
       "      <td>SUNDAY</td>\n",
       "      <td>1</td>\n",
       "    </tr>\n",
       "    <tr>\n",
       "      <th>155</th>\n",
       "      <td>F</td>\n",
       "      <td>M</td>\n",
       "      <td>5PM-9PM</td>\n",
       "      <td>1996.0</td>\n",
       "      <td>Y</td>\n",
       "      <td>200.0</td>\n",
       "      <td>Y</td>\n",
       "      <td>SUNDAY</td>\n",
       "      <td>1</td>\n",
       "    </tr>\n",
       "  </tbody>\n",
       "</table>\n",
       "<p>194 rows × 9 columns</p>\n",
       "</div>"
      ],
      "text/plain": [
       "    Gender_Caller Gender_Callee Time_Slot_Called  Graduation_year  \\\n",
       "96            NaN             M         12AM-4PM           1977.0   \n",
       "102           NaN             M         12AM-4PM           1983.0   \n",
       "103           NaN             F         12AM-4PM           1983.0   \n",
       "104           NaN             M         12AM-4PM           1958.0   \n",
       "105           NaN             F         12AM-4PM           2001.0   \n",
       "..            ...           ...              ...              ...   \n",
       "143             F             M          5PM-9PM           2002.0   \n",
       "159             F             M          5PM-9PM           1967.0   \n",
       "20              F             F          5PM-9PM              NaN   \n",
       "154             F             M          5PM-9PM           1976.0   \n",
       "155             F             M          5PM-9PM           1996.0   \n",
       "\n",
       "    Donated_in_past  Donated_Amount From_California Day_ofCalling  donates  \n",
       "96                N             0.0               Y      SATURDAY        0  \n",
       "102               N             0.0               Y      SATURDAY        0  \n",
       "103               N             0.0               Y      SATURDAY        0  \n",
       "104               N             0.0               Y      SATURDAY        0  \n",
       "105               N             0.0               Y      SATURDAY        0  \n",
       "..              ...             ...             ...           ...      ...  \n",
       "143               Y           100.0               Y        SUNDAY        1  \n",
       "159               Y           100.0               Y        SUNDAY        1  \n",
       "20              NaN           100.0               Y       TUESDAY        1  \n",
       "154               Y           100.0               Y        SUNDAY        1  \n",
       "155               Y           200.0               Y        SUNDAY        1  \n",
       "\n",
       "[194 rows x 9 columns]"
      ]
     },
     "execution_count": 42,
     "metadata": {},
     "output_type": "execute_result"
    }
   ],
   "source": [
    "#To create a column for yes or no donation with boolean variable\n",
    "\n",
    "#create a function where if donation = 0, no donation (0); if donation is more than 0, they have donated and assign 1.\n",
    "def donated(x):\n",
    "    if x==0:\n",
    "        return 0\n",
    "    elif x>0:\n",
    "        return 1\n",
    "#applying out function to Donated Amonut and storing results in new columns donates\n",
    "donate['donates'] = donate['Donated_Amount'].apply(donated)\n",
    "\n",
    "#viewing data to check if it has worked\n",
    "donate.sort_values(by = 'Donated_Amount', ascending = True)\n"
   ]
  },
  {
   "cell_type": "code",
   "execution_count": 46,
   "id": "3a6bc314",
   "metadata": {},
   "outputs": [
    {
     "data": {
      "text/html": [
       "<div>\n",
       "<style scoped>\n",
       "    .dataframe tbody tr th:only-of-type {\n",
       "        vertical-align: middle;\n",
       "    }\n",
       "\n",
       "    .dataframe tbody tr th {\n",
       "        vertical-align: top;\n",
       "    }\n",
       "\n",
       "    .dataframe thead th {\n",
       "        text-align: right;\n",
       "    }\n",
       "</style>\n",
       "<table border=\"1\" class=\"dataframe\">\n",
       "  <thead>\n",
       "    <tr style=\"text-align: right;\">\n",
       "      <th></th>\n",
       "      <th>Donated_Amount</th>\n",
       "    </tr>\n",
       "  </thead>\n",
       "  <tbody>\n",
       "    <tr>\n",
       "      <th>mean</th>\n",
       "      <td>25.229367</td>\n",
       "    </tr>\n",
       "    <tr>\n",
       "      <th>amin</th>\n",
       "      <td>5.000000</td>\n",
       "    </tr>\n",
       "    <tr>\n",
       "      <th>amax</th>\n",
       "      <td>200.000000</td>\n",
       "    </tr>\n",
       "  </tbody>\n",
       "</table>\n",
       "</div>"
      ],
      "text/plain": [
       "      Donated_Amount\n",
       "mean       25.229367\n",
       "amin        5.000000\n",
       "amax      200.000000"
      ]
     },
     "execution_count": 46,
     "metadata": {},
     "output_type": "execute_result"
    }
   ],
   "source": [
    "#find min mean and max amount for those who do donate we can see the minimum donation amount if $5, the average is $25 and the maximum is $200\n",
    "\n",
    "donate[donate['donates']==1].agg({'Donated_Amount': [np.mean,np.min, np.max]})\n",
    "\n"
   ]
  },
  {
   "cell_type": "code",
   "execution_count": 49,
   "id": "2afe0b36",
   "metadata": {},
   "outputs": [
    {
     "data": {
      "image/png": "[encoded data removed]",
      "text/plain": [
       "<Figure size 432x288 with 1 Axes>"
      ]
     },
     "metadata": {
      "needs_background": "light"
     },
     "output_type": "display_data"
    }
   ],
   "source": [
    "#creating a boxplot to visualise donation amounts by those who do donate\n",
    "#from the visualisation we can see many donors donate between 1-25 with a long-tail of a few large cheque donors\n",
    "\n",
    "donated = donate[donate['donates']==1]\n",
    "\n",
    "plt.boxplot(donated[\"Donated_Amount\"])\n",
    "plt.title(\"Boxplot for Donated Amount by Donors\")\n",
    "plt.ylabel(\"Donation ($)\");\n"
   ]
  },
  {
   "cell_type": "code",
   "execution_count": 52,
   "id": "8e615c25",
   "metadata": {},
   "outputs": [
    {
     "data": {
      "text/plain": [
       "Index(['Gender_Caller', 'Gender_Callee', 'Time_Slot_Called', 'Graduation_year',\n",
       "       'Donated_in_past', 'Donated_Amount', 'From_California', 'Day_ofCalling',\n",
       "       'donates'],\n",
       "      dtype='object')"
      ]
     },
     "execution_count": 52,
     "metadata": {},
     "output_type": "execute_result"
    }
   ],
   "source": [
    "donate.columns"
   ]
  },
  {
   "cell_type": "code",
   "execution_count": 59,
   "id": "a1219b98",
   "metadata": {},
   "outputs": [
    {
     "data": {
      "text/html": [
       "<div>\n",
       "<style scoped>\n",
       "    .dataframe tbody tr th:only-of-type {\n",
       "        vertical-align: middle;\n",
       "    }\n",
       "\n",
       "    .dataframe tbody tr th {\n",
       "        vertical-align: top;\n",
       "    }\n",
       "\n",
       "    .dataframe thead th {\n",
       "        text-align: right;\n",
       "    }\n",
       "</style>\n",
       "<table border=\"1\" class=\"dataframe\">\n",
       "  <thead>\n",
       "    <tr style=\"text-align: right;\">\n",
       "      <th></th>\n",
       "      <th>Graduation_year</th>\n",
       "      <th>Donated_Amount</th>\n",
       "      <th>donates</th>\n",
       "      <th>gender_donate'</th>\n",
       "      <th>gender_call</th>\n",
       "      <th>gender_donate</th>\n",
       "      <th>past_donor</th>\n",
       "      <th>cali</th>\n",
       "      <th>day</th>\n",
       "      <th>time</th>\n",
       "    </tr>\n",
       "  </thead>\n",
       "  <tbody>\n",
       "    <tr>\n",
       "      <th>count</th>\n",
       "      <td>182.000000</td>\n",
       "      <td>194.000000</td>\n",
       "      <td>194.000000</td>\n",
       "      <td>152.000000</td>\n",
       "      <td>152.000000</td>\n",
       "      <td>194.000000</td>\n",
       "      <td>183.000000</td>\n",
       "      <td>194.000000</td>\n",
       "      <td>194.000000</td>\n",
       "      <td>194.000000</td>\n",
       "    </tr>\n",
       "    <tr>\n",
       "      <th>mean</th>\n",
       "      <td>1986.439560</td>\n",
       "      <td>10.273814</td>\n",
       "      <td>0.407216</td>\n",
       "      <td>0.855263</td>\n",
       "      <td>0.855263</td>\n",
       "      <td>0.340206</td>\n",
       "      <td>0.256831</td>\n",
       "      <td>0.938144</td>\n",
       "      <td>0.814433</td>\n",
       "      <td>0.247423</td>\n",
       "    </tr>\n",
       "    <tr>\n",
       "      <th>std</th>\n",
       "      <td>20.749071</td>\n",
       "      <td>23.640439</td>\n",
       "      <td>0.492587</td>\n",
       "      <td>0.352998</td>\n",
       "      <td>0.352998</td>\n",
       "      <td>0.475004</td>\n",
       "      <td>0.438084</td>\n",
       "      <td>0.241516</td>\n",
       "      <td>0.849625</td>\n",
       "      <td>0.432631</td>\n",
       "    </tr>\n",
       "    <tr>\n",
       "      <th>min</th>\n",
       "      <td>1940.000000</td>\n",
       "      <td>0.000000</td>\n",
       "      <td>0.000000</td>\n",
       "      <td>0.000000</td>\n",
       "      <td>0.000000</td>\n",
       "      <td>0.000000</td>\n",
       "      <td>0.000000</td>\n",
       "      <td>0.000000</td>\n",
       "      <td>0.000000</td>\n",
       "      <td>0.000000</td>\n",
       "    </tr>\n",
       "    <tr>\n",
       "      <th>25%</th>\n",
       "      <td>1971.000000</td>\n",
       "      <td>0.000000</td>\n",
       "      <td>0.000000</td>\n",
       "      <td>1.000000</td>\n",
       "      <td>1.000000</td>\n",
       "      <td>0.000000</td>\n",
       "      <td>0.000000</td>\n",
       "      <td>1.000000</td>\n",
       "      <td>0.000000</td>\n",
       "      <td>0.000000</td>\n",
       "    </tr>\n",
       "    <tr>\n",
       "      <th>50%</th>\n",
       "      <td>1989.000000</td>\n",
       "      <td>0.000000</td>\n",
       "      <td>0.000000</td>\n",
       "      <td>1.000000</td>\n",
       "      <td>1.000000</td>\n",
       "      <td>0.000000</td>\n",
       "      <td>0.000000</td>\n",
       "      <td>1.000000</td>\n",
       "      <td>1.000000</td>\n",
       "      <td>0.000000</td>\n",
       "    </tr>\n",
       "    <tr>\n",
       "      <th>75%</th>\n",
       "      <td>2008.000000</td>\n",
       "      <td>14.250000</td>\n",
       "      <td>1.000000</td>\n",
       "      <td>1.000000</td>\n",
       "      <td>1.000000</td>\n",
       "      <td>1.000000</td>\n",
       "      <td>1.000000</td>\n",
       "      <td>1.000000</td>\n",
       "      <td>2.000000</td>\n",
       "      <td>0.000000</td>\n",
       "    </tr>\n",
       "    <tr>\n",
       "      <th>max</th>\n",
       "      <td>2008.000000</td>\n",
       "      <td>200.000000</td>\n",
       "      <td>1.000000</td>\n",
       "      <td>1.000000</td>\n",
       "      <td>1.000000</td>\n",
       "      <td>1.000000</td>\n",
       "      <td>1.000000</td>\n",
       "      <td>1.000000</td>\n",
       "      <td>2.000000</td>\n",
       "      <td>1.000000</td>\n",
       "    </tr>\n",
       "  </tbody>\n",
       "</table>\n",
       "</div>"
      ],
      "text/plain": [
       "       Graduation_year  Donated_Amount     donates  gender_donate'  \\\n",
       "count       182.000000      194.000000  194.000000      152.000000   \n",
       "mean       1986.439560       10.273814    0.407216        0.855263   \n",
       "std          20.749071       23.640439    0.492587        0.352998   \n",
       "min        1940.000000        0.000000    0.000000        0.000000   \n",
       "25%        1971.000000        0.000000    0.000000        1.000000   \n",
       "50%        1989.000000        0.000000    0.000000        1.000000   \n",
       "75%        2008.000000       14.250000    1.000000        1.000000   \n",
       "max        2008.000000      200.000000    1.000000        1.000000   \n",
       "\n",
       "       gender_call  gender_donate  past_donor        cali         day  \\\n",
       "count   152.000000     194.000000  183.000000  194.000000  194.000000   \n",
       "mean      0.855263       0.340206    0.256831    0.938144    0.814433   \n",
       "std       0.352998       0.475004    0.438084    0.241516    0.849625   \n",
       "min       0.000000       0.000000    0.000000    0.000000    0.000000   \n",
       "25%       1.000000       0.000000    0.000000    1.000000    0.000000   \n",
       "50%       1.000000       0.000000    0.000000    1.000000    1.000000   \n",
       "75%       1.000000       1.000000    1.000000    1.000000    2.000000   \n",
       "max       1.000000       1.000000    1.000000    1.000000    2.000000   \n",
       "\n",
       "             time  \n",
       "count  194.000000  \n",
       "mean     0.247423  \n",
       "std      0.432631  \n",
       "min      0.000000  \n",
       "25%      0.000000  \n",
       "50%      0.000000  \n",
       "75%      0.000000  \n",
       "max      1.000000  "
      ]
     },
     "execution_count": 59,
     "metadata": {},
     "output_type": "execute_result"
    }
   ],
   "source": [
    "#turn all categorial data into numerical data to be able to find correlations between variables\n",
    "\n",
    "donate[\"gender_call\"] = donate[\"Gender_Caller\"].map({\"M\":0, \"F\":1})\n",
    "donate[\"gender_donate\"] = donate[\"Gender_Callee\"].map({\"M\":0, \"F\":1})\n",
    "donate[\"past_donor\"] = donate['Donated_in_past'].map({\"Y\":1, \"N\":0})\n",
    "donate[\"cali\"] = donate['From_California'].map({\"Y\":1, \"N\":0})\n",
    "donate[\"day\"] = donate['Day_ofCalling'].map({\"TUESDAY\":0, \"SATURDAY\":1, \"SUNDAY\":2})\n",
    "donate[\"time\"] = donate['Time_Slot_Called'].map({\"5PM-9PM\":0, \"12AM-4PM\":1})\n",
    "\n",
    "donate.describe()\n"
   ]
  },
  {
   "cell_type": "code",
   "execution_count": 151,
   "id": "1dcbc4b3",
   "metadata": {},
   "outputs": [
    {
     "data": {
      "text/html": [
       "<div>\n",
       "<style scoped>\n",
       "    .dataframe tbody tr th:only-of-type {\n",
       "        vertical-align: middle;\n",
       "    }\n",
       "\n",
       "    .dataframe tbody tr th {\n",
       "        vertical-align: top;\n",
       "    }\n",
       "\n",
       "    .dataframe thead th {\n",
       "        text-align: right;\n",
       "    }\n",
       "</style>\n",
       "<table border=\"1\" class=\"dataframe\">\n",
       "  <thead>\n",
       "    <tr style=\"text-align: right;\">\n",
       "      <th></th>\n",
       "      <th>Graduation_year</th>\n",
       "      <th>donates</th>\n",
       "      <th>gender_donate</th>\n",
       "      <th>gender_call</th>\n",
       "      <th>past_donor</th>\n",
       "      <th>cali</th>\n",
       "      <th>day</th>\n",
       "      <th>time</th>\n",
       "    </tr>\n",
       "  </thead>\n",
       "  <tbody>\n",
       "    <tr>\n",
       "      <th>Graduation_year</th>\n",
       "      <td>1.000000</td>\n",
       "      <td>0.292074</td>\n",
       "      <td>0.327409</td>\n",
       "      <td>0.023827</td>\n",
       "      <td>-0.193334</td>\n",
       "      <td>-0.029156</td>\n",
       "      <td>-0.548213</td>\n",
       "      <td>-0.364026</td>\n",
       "    </tr>\n",
       "    <tr>\n",
       "      <th>donates</th>\n",
       "      <td>0.292074</td>\n",
       "      <td>1.000000</td>\n",
       "      <td>0.113461</td>\n",
       "      <td>-0.048240</td>\n",
       "      <td>0.220932</td>\n",
       "      <td>0.082166</td>\n",
       "      <td>-0.028973</td>\n",
       "      <td>-0.329356</td>\n",
       "    </tr>\n",
       "    <tr>\n",
       "      <th>gender_donate</th>\n",
       "      <td>0.327409</td>\n",
       "      <td>0.113461</td>\n",
       "      <td>1.000000</td>\n",
       "      <td>-0.023298</td>\n",
       "      <td>-0.097288</td>\n",
       "      <td>-0.086604</td>\n",
       "      <td>-0.163725</td>\n",
       "      <td>-0.184810</td>\n",
       "    </tr>\n",
       "    <tr>\n",
       "      <th>gender_call</th>\n",
       "      <td>0.023827</td>\n",
       "      <td>-0.048240</td>\n",
       "      <td>-0.023298</td>\n",
       "      <td>1.000000</td>\n",
       "      <td>-0.070516</td>\n",
       "      <td>-0.109168</td>\n",
       "      <td>-0.252719</td>\n",
       "      <td>0.103203</td>\n",
       "    </tr>\n",
       "    <tr>\n",
       "      <th>past_donor</th>\n",
       "      <td>-0.193334</td>\n",
       "      <td>0.220932</td>\n",
       "      <td>-0.097288</td>\n",
       "      <td>-0.070516</td>\n",
       "      <td>1.000000</td>\n",
       "      <td>0.004142</td>\n",
       "      <td>0.551972</td>\n",
       "      <td>-0.293668</td>\n",
       "    </tr>\n",
       "    <tr>\n",
       "      <th>cali</th>\n",
       "      <td>-0.029156</td>\n",
       "      <td>0.082166</td>\n",
       "      <td>-0.086604</td>\n",
       "      <td>-0.109168</td>\n",
       "      <td>0.004142</td>\n",
       "      <td>1.000000</td>\n",
       "      <td>0.019524</td>\n",
       "      <td>0.097643</td>\n",
       "    </tr>\n",
       "    <tr>\n",
       "      <th>day</th>\n",
       "      <td>-0.548213</td>\n",
       "      <td>-0.028973</td>\n",
       "      <td>-0.163725</td>\n",
       "      <td>-0.252719</td>\n",
       "      <td>0.551972</td>\n",
       "      <td>0.019524</td>\n",
       "      <td>1.000000</td>\n",
       "      <td>0.125557</td>\n",
       "    </tr>\n",
       "    <tr>\n",
       "      <th>time</th>\n",
       "      <td>-0.364026</td>\n",
       "      <td>-0.329356</td>\n",
       "      <td>-0.184810</td>\n",
       "      <td>0.103203</td>\n",
       "      <td>-0.293668</td>\n",
       "      <td>0.097643</td>\n",
       "      <td>0.125557</td>\n",
       "      <td>1.000000</td>\n",
       "    </tr>\n",
       "  </tbody>\n",
       "</table>\n",
       "</div>"
      ],
      "text/plain": [
       "                 Graduation_year   donates  gender_donate  gender_call  \\\n",
       "Graduation_year         1.000000  0.292074       0.327409     0.023827   \n",
       "donates                 0.292074  1.000000       0.113461    -0.048240   \n",
       "gender_donate           0.327409  0.113461       1.000000    -0.023298   \n",
       "gender_call             0.023827 -0.048240      -0.023298     1.000000   \n",
       "past_donor             -0.193334  0.220932      -0.097288    -0.070516   \n",
       "cali                   -0.029156  0.082166      -0.086604    -0.109168   \n",
       "day                    -0.548213 -0.028973      -0.163725    -0.252719   \n",
       "time                   -0.364026 -0.329356      -0.184810     0.103203   \n",
       "\n",
       "                 past_donor      cali       day      time  \n",
       "Graduation_year   -0.193334 -0.029156 -0.548213 -0.364026  \n",
       "donates            0.220932  0.082166 -0.028973 -0.329356  \n",
       "gender_donate     -0.097288 -0.086604 -0.163725 -0.184810  \n",
       "gender_call       -0.070516 -0.109168 -0.252719  0.103203  \n",
       "past_donor         1.000000  0.004142  0.551972 -0.293668  \n",
       "cali               0.004142  1.000000  0.019524  0.097643  \n",
       "day                0.551972  0.019524  1.000000  0.125557  \n",
       "time              -0.293668  0.097643  0.125557  1.000000  "
      ]
     },
     "execution_count": 151,
     "metadata": {},
     "output_type": "execute_result"
    }
   ],
   "source": [
    "#observing correlation between different variables\n",
    "donate[['Graduation_year','donates', 'gender_donate','gender_call', 'past_donor', 'cali', 'day','time']].corr()"
   ]
  },
  {
   "cell_type": "code",
   "execution_count": 62,
   "id": "7ee8cd47",
   "metadata": {},
   "outputs": [
    {
     "data": {
      "image/png": "[encoded data removed]",
      "text/plain": [
       "<Figure size 720x720 with 2 Axes>"
      ]
     },
     "metadata": {
      "needs_background": "light"
     },
     "output_type": "display_data"
    }
   ],
   "source": [
    "#creating a heatmap to visualise the correlation strength between variables\n",
    "\n",
    "plt.figure(figsize= (10,10))\n",
    "sns.heatmap(donate[['Graduation_year','donates', 'gender_donate','gender_call', 'past_donor', 'cali', 'day','time']].corr(), annot = True, cmap=\"Greens\")\n",
    "heatmap = plt.title(\"Heatmap for Correlations Between Donation Call Scheme Variables\")\n",
    "\n"
   ]
  },
  {
   "cell_type": "code",
   "execution_count": 96,
   "id": "6f9cca7e",
   "metadata": {},
   "outputs": [
    {
     "data": {
      "text/plain": [
       "Index(['Gender_Caller', 'Gender_Callee', 'Time_Slot_Called', 'Graduation_year',\n",
       "       'Donated_in_past', 'Donated_Amount', 'From_California', 'Day_ofCalling',\n",
       "       'donates', 'gender_donate'', 'gender_call', 'gender_donate',\n",
       "       'past_donor', 'cali', 'day', 'time'],\n",
       "      dtype='object')"
      ]
     },
     "execution_count": 96,
     "metadata": {},
     "output_type": "execute_result"
    }
   ],
   "source": [
    "\n",
    "donate.columns\n",
    "\n"
   ]
  },
  {
   "cell_type": "code",
   "execution_count": 152,
   "id": "c353011d",
   "metadata": {},
   "outputs": [
    {
     "data": {
      "text/html": [
       "<div>\n",
       "<style scoped>\n",
       "    .dataframe tbody tr th:only-of-type {\n",
       "        vertical-align: middle;\n",
       "    }\n",
       "\n",
       "    .dataframe tbody tr th {\n",
       "        vertical-align: top;\n",
       "    }\n",
       "\n",
       "    .dataframe thead th {\n",
       "        text-align: right;\n",
       "    }\n",
       "</style>\n",
       "<table border=\"1\" class=\"dataframe\">\n",
       "  <thead>\n",
       "    <tr style=\"text-align: right;\">\n",
       "      <th></th>\n",
       "      <th>Graduation_year</th>\n",
       "      <th>past_donor</th>\n",
       "      <th>time</th>\n",
       "      <th>donates</th>\n",
       "    </tr>\n",
       "  </thead>\n",
       "  <tbody>\n",
       "    <tr>\n",
       "      <th>0</th>\n",
       "      <td>2004.0</td>\n",
       "      <td>0.0</td>\n",
       "      <td>0</td>\n",
       "      <td>1</td>\n",
       "    </tr>\n",
       "    <tr>\n",
       "      <th>1</th>\n",
       "      <td>1986.0</td>\n",
       "      <td>1.0</td>\n",
       "      <td>0</td>\n",
       "      <td>1</td>\n",
       "    </tr>\n",
       "    <tr>\n",
       "      <th>2</th>\n",
       "      <td>2007.0</td>\n",
       "      <td>0.0</td>\n",
       "      <td>0</td>\n",
       "      <td>1</td>\n",
       "    </tr>\n",
       "    <tr>\n",
       "      <th>3</th>\n",
       "      <td>2008.0</td>\n",
       "      <td>0.0</td>\n",
       "      <td>0</td>\n",
       "      <td>1</td>\n",
       "    </tr>\n",
       "    <tr>\n",
       "      <th>4</th>\n",
       "      <td>2008.0</td>\n",
       "      <td>0.0</td>\n",
       "      <td>0</td>\n",
       "      <td>1</td>\n",
       "    </tr>\n",
       "    <tr>\n",
       "      <th>...</th>\n",
       "      <td>...</td>\n",
       "      <td>...</td>\n",
       "      <td>...</td>\n",
       "      <td>...</td>\n",
       "    </tr>\n",
       "    <tr>\n",
       "      <th>189</th>\n",
       "      <td>1973.0</td>\n",
       "      <td>1.0</td>\n",
       "      <td>0</td>\n",
       "      <td>0</td>\n",
       "    </tr>\n",
       "    <tr>\n",
       "      <th>190</th>\n",
       "      <td>1981.0</td>\n",
       "      <td>1.0</td>\n",
       "      <td>0</td>\n",
       "      <td>0</td>\n",
       "    </tr>\n",
       "    <tr>\n",
       "      <th>191</th>\n",
       "      <td>1995.0</td>\n",
       "      <td>1.0</td>\n",
       "      <td>0</td>\n",
       "      <td>0</td>\n",
       "    </tr>\n",
       "    <tr>\n",
       "      <th>192</th>\n",
       "      <td>1949.0</td>\n",
       "      <td>1.0</td>\n",
       "      <td>0</td>\n",
       "      <td>0</td>\n",
       "    </tr>\n",
       "    <tr>\n",
       "      <th>193</th>\n",
       "      <td>1970.0</td>\n",
       "      <td>1.0</td>\n",
       "      <td>0</td>\n",
       "      <td>0</td>\n",
       "    </tr>\n",
       "  </tbody>\n",
       "</table>\n",
       "<p>194 rows × 4 columns</p>\n",
       "</div>"
      ],
      "text/plain": [
       "     Graduation_year  past_donor  time  donates\n",
       "0             2004.0         0.0     0        1\n",
       "1             1986.0         1.0     0        1\n",
       "2             2007.0         0.0     0        1\n",
       "3             2008.0         0.0     0        1\n",
       "4             2008.0         0.0     0        1\n",
       "..               ...         ...   ...      ...\n",
       "189           1973.0         1.0     0        0\n",
       "190           1981.0         1.0     0        0\n",
       "191           1995.0         1.0     0        0\n",
       "192           1949.0         1.0     0        0\n",
       "193           1970.0         1.0     0        0\n",
       "\n",
       "[194 rows x 4 columns]"
      ]
     },
     "execution_count": 152,
     "metadata": {},
     "output_type": "execute_result"
    }
   ],
   "source": [
    "#creating a new view with our variables of interest - those that showed the highest correlation with donates\n",
    "donate1= donate[['Graduation_year', 'past_donor', 'time', 'donates']]\n",
    "donate1"
   ]
  },
  {
   "cell_type": "code",
   "execution_count": 156,
   "id": "0c41f630",
   "metadata": {},
   "outputs": [
    {
     "name": "stdout",
     "output_type": "stream",
     "text": [
      "<class 'pandas.core.frame.DataFrame'>\n",
      "RangeIndex: 194 entries, 0 to 193\n",
      "Data columns (total 4 columns):\n",
      " #   Column           Non-Null Count  Dtype  \n",
      "---  ------           --------------  -----  \n",
      " 0   Graduation_year  182 non-null    float64\n",
      " 1   past_donor       183 non-null    float64\n",
      " 2   time             194 non-null    int64  \n",
      " 3   donates          194 non-null    int64  \n",
      "dtypes: float64(2), int64(2)\n",
      "memory usage: 6.2 KB\n"
     ]
    }
   ],
   "source": [
    "\n",
    "donate1.info()"
   ]
  },
  {
   "cell_type": "code",
   "execution_count": 157,
   "id": "54564894",
   "metadata": {},
   "outputs": [
    {
     "name": "stdout",
     "output_type": "stream",
     "text": [
      "<class 'pandas.core.frame.DataFrame'>\n",
      "Int64Index: 182 entries, 0 to 193\n",
      "Data columns (total 4 columns):\n",
      " #   Column           Non-Null Count  Dtype  \n",
      "---  ------           --------------  -----  \n",
      " 0   Graduation_year  182 non-null    float64\n",
      " 1   past_donor       182 non-null    float64\n",
      " 2   time             182 non-null    int64  \n",
      " 3   donates          182 non-null    int64  \n",
      "dtypes: float64(2), int64(2)\n",
      "memory usage: 7.1 KB\n"
     ]
    }
   ],
   "source": [
    "#dropping entries with null values to obtain 182 entries with no nulls\n",
    "donate2 = donate1.dropna()\n",
    "donate2.info()"
   ]
  },
  {
   "cell_type": "code",
   "execution_count": 159,
   "id": "fb692deb",
   "metadata": {},
   "outputs": [
    {
     "data": {
      "text/html": [
       "<div>\n",
       "<style scoped>\n",
       "    .dataframe tbody tr th:only-of-type {\n",
       "        vertical-align: middle;\n",
       "    }\n",
       "\n",
       "    .dataframe tbody tr th {\n",
       "        vertical-align: top;\n",
       "    }\n",
       "\n",
       "    .dataframe thead th {\n",
       "        text-align: right;\n",
       "    }\n",
       "</style>\n",
       "<table border=\"1\" class=\"dataframe\">\n",
       "  <thead>\n",
       "    <tr style=\"text-align: right;\">\n",
       "      <th></th>\n",
       "      <th>Graduation_year</th>\n",
       "      <th>past_donor</th>\n",
       "      <th>time</th>\n",
       "    </tr>\n",
       "  </thead>\n",
       "  <tbody>\n",
       "    <tr>\n",
       "      <th>0</th>\n",
       "      <td>2004.0</td>\n",
       "      <td>0.0</td>\n",
       "      <td>0</td>\n",
       "    </tr>\n",
       "    <tr>\n",
       "      <th>1</th>\n",
       "      <td>1986.0</td>\n",
       "      <td>1.0</td>\n",
       "      <td>0</td>\n",
       "    </tr>\n",
       "    <tr>\n",
       "      <th>2</th>\n",
       "      <td>2007.0</td>\n",
       "      <td>0.0</td>\n",
       "      <td>0</td>\n",
       "    </tr>\n",
       "    <tr>\n",
       "      <th>3</th>\n",
       "      <td>2008.0</td>\n",
       "      <td>0.0</td>\n",
       "      <td>0</td>\n",
       "    </tr>\n",
       "    <tr>\n",
       "      <th>4</th>\n",
       "      <td>2008.0</td>\n",
       "      <td>0.0</td>\n",
       "      <td>0</td>\n",
       "    </tr>\n",
       "  </tbody>\n",
       "</table>\n",
       "</div>"
      ],
      "text/plain": [
       "   Graduation_year  past_donor  time\n",
       "0           2004.0         0.0     0\n",
       "1           1986.0         1.0     0\n",
       "2           2007.0         0.0     0\n",
       "3           2008.0         0.0     0\n",
       "4           2008.0         0.0     0"
      ]
     },
     "execution_count": 159,
     "metadata": {},
     "output_type": "execute_result"
    }
   ],
   "source": [
    "#defining our X variables as the variables with the highest correlation according to our Pearson correlation test with the 'donates' outcome\n",
    "\n",
    "donate3 = donate2[['Graduation_year', 'past_donor', 'time']]\n",
    "\n",
    "donate3.head()"
   ]
  },
  {
   "cell_type": "code",
   "execution_count": 161,
   "id": "2bceb11a",
   "metadata": {},
   "outputs": [],
   "source": [
    "#declare independent X varibales and dependent Y variable (donates)\n",
    "\n",
    "X = donate3\n",
    "Y = donate2[['donates']]\n",
    "\n"
   ]
  },
  {
   "cell_type": "code",
   "execution_count": 162,
   "id": "b5629d4e",
   "metadata": {},
   "outputs": [],
   "source": [
    "#train test split\n",
    "from sklearn.preprocessing import StandardScaler\n",
    "from sklearn.model_selection import train_test_split\n",
    "\n",
    "X_train, X_test, Y_train, Y_test = train_test_split(X,Y,\n",
    "                                                   test_size = .2, random_state = 42)"
   ]
  },
  {
   "cell_type": "code",
   "execution_count": 163,
   "id": "2881808e",
   "metadata": {},
   "outputs": [],
   "source": [
    "#Given most variables are 0-1 except graduation which has values in the 1000s, we need to scale X variables\n",
    "\n",
    "scaler = StandardScaler()\n",
    "\n",
    "scaled_X_train = scaler.fit_transform(X_train)\n",
    "scaled_X_test = scaler.fit_transform(X_test)\n",
    "\n",
    "\n"
   ]
  },
  {
   "cell_type": "code",
   "execution_count": 164,
   "id": "269bc984",
   "metadata": {},
   "outputs": [
    {
     "name": "stderr",
     "output_type": "stream",
     "text": [
      "/opt/anaconda3/lib/python3.9/site-packages/sklearn/neighbors/_classification.py:198: DataConversionWarning: A column-vector y was passed when a 1d array was expected. Please change the shape of y to (n_samples,), for example using ravel().\n",
      "  return self._fit(X, y)\n"
     ]
    }
   ],
   "source": [
    "\n",
    "#import\n",
    "from sklearn.neighbors import KNeighborsClassifier\n",
    "\n",
    "#instantiate\n",
    "knn = KNeighborsClassifier(n_neighbors = 5)\n",
    "\n",
    "#fit it\n",
    "knn.fit(scaled_X_train, Y_train)\n",
    "# knn.fit(scaled_X_train, Y_train.values.ravel())\n",
    "\n",
    "#predict\n",
    "Y_pred = knn.predict(scaled_X_test)"
   ]
  },
  {
   "cell_type": "code",
   "execution_count": 165,
   "id": "30b0c65b",
   "metadata": {},
   "outputs": [
    {
     "data": {
      "text/plain": [
       "array([0, 0, 0, 0, 0, 0, 0, 0, 0, 0, 0, 0, 0, 0, 0, 0, 0, 0, 0, 0, 0, 0,\n",
       "       1, 0, 0, 0, 0, 0, 0, 1, 1, 0, 0, 0, 0, 0, 0])"
      ]
     },
     "execution_count": 165,
     "metadata": {},
     "output_type": "execute_result"
    }
   ],
   "source": [
    "Y_pred"
   ]
  },
  {
   "cell_type": "code",
   "execution_count": 181,
   "id": "00f59f31",
   "metadata": {},
   "outputs": [
    {
     "name": "stdout",
     "output_type": "stream",
     "text": [
      "              precision    recall  f1-score   support\n",
      "\n",
      "           0       0.62      0.95      0.75        22\n",
      "           1       0.67      0.13      0.22        15\n",
      "\n",
      "    accuracy                           0.62        37\n",
      "   macro avg       0.64      0.54      0.49        37\n",
      "weighted avg       0.64      0.62      0.54        37\n",
      "\n"
     ]
    }
   ],
   "source": [
    "#Evaluate\n",
    "# https://scikit-learn.org/stable/modules/generated/sklearn.metrics.classification_report.html#sklearn.metrics.classification_report\n",
    "\n",
    "from sklearn.metrics import classification_report,confusion_matrix\n",
    "\n",
    "print(classification_report(Y_test, Y_pred))"
   ]
  },
  {
   "cell_type": "code",
   "execution_count": 182,
   "id": "38648be1",
   "metadata": {},
   "outputs": [
    {
     "name": "stdout",
     "output_type": "stream",
     "text": [
      "[[21  1]\n",
      " [13  2]]\n"
     ]
    }
   ],
   "source": [
    "#evaluate with a confusion metric\n",
    "\n",
    "print(confusion_matrix(Y_test, Y_pred))"
   ]
  },
  {
   "cell_type": "code",
   "execution_count": 184,
   "id": "bbdbb2e9",
   "metadata": {},
   "outputs": [
    {
     "name": "stdout",
     "output_type": "stream",
     "text": [
      "0.6216216216216216\n",
      "Accuracy :  0.6216216216216216\n"
     ]
    }
   ],
   "source": [
    "#confirming our accuracy score\n",
    "from sklearn.metrics import accuracy_score \n",
    "print(knn.score(scaled_X_test, Y_test))\n",
    "\n",
    "print (\"Accuracy : \", accuracy_score(Y_test, Y_pred))\n",
    "\n"
   ]
  },
  {
   "cell_type": "code",
   "execution_count": 190,
   "id": "42f8aea2",
   "metadata": {},
   "outputs": [],
   "source": [
    "#Our model produced an accuracy score which shows that our model predicted 62% of values correctly. Equally corroborated by our classification report\n",
    "#This indicates that Graduation_year, past_donor and time are useful in predicting whether a Callee will donate or not\n",
    "#According ot our confusion matrix, the model produces many False Positives. In other words, it falsely predicted that 15 Callees from our test data would donate, when in fact only 2 did (a recall of 13%). \n",
    "#However, we can see from that from the Callees that out of those did not donate in our test data, our model correctly predicted 95% of these were non-donors.\n",
    "#In other words, our model is much better at identifying Callees who do not donate.\n",
    "#As such, Callees could use this model to initially screen the database for alumni that are unlikely to donate and prioritse the alumni who are identified in the model as unlikely to donate. \n",
    "#Whilst this would cause many high False Positive rates, it would allow for greater efficiency in reaching donors. \n",
    "#Moreover, if the scheme is looking to reduce calling days from Tuesday, Saturday and Sunday (building on previous insights), this initial screen could be an efficient method to fundraise the same quanutm in a shorter time frame by reducing time spent calling non-donors.\n",
    "\n",
    "\n"
   ]
  },
  {
   "cell_type": "code",
   "execution_count": null,
   "id": "540216d8",
   "metadata": {},
   "outputs": [],
   "source": []
  },
  {
   "cell_type": "code",
   "execution_count": null,
   "id": "33f67c96",
   "metadata": {},
   "outputs": [],
   "source": []
  }
 ],
 "metadata": {
  "kernelspec": {
   "display_name": "Python 3 (ipykernel)",
   "language": "python",
   "name": "python3"
  },
  "language_info": {
   "codemirror_mode": {
    "name": "ipython",
    "version": 3
   },
   "file_extension": ".py",
   "mimetype": "text/x-python",
   "name": "python",
   "nbconvert_exporter": "python",
   "pygments_lexer": "ipython3",
   "version": "3.9.12"
  }
 },
 "nbformat": 4,
 "nbformat_minor": 5
}
