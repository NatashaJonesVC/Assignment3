{
 "cells": [
  {
   "cell_type": "code",
   "execution_count": 1,
   "id": "9a2b43fd",
   "metadata": {},
   "outputs": [],
   "source": [
    "#Import Libraries\n",
    "import pandas as pd\n",
    "import seaborn as sns\n",
    "import matplotlib.pyplot as plt\n",
    "import numpy as np\n",
    "\n",
    "\n",
    "%matplotlib inline"
   ]
  },
  {
   "cell_type": "code",
   "execution_count": 2,
   "id": "bcd92fd6",
   "metadata": {},
   "outputs": [],
   "source": [
    "groom = pd.read_excel('data/Personal_Grooming.xlsx')"
   ]
  },
  {
   "cell_type": "code",
   "execution_count": 3,
   "id": "7ae2678d",
   "metadata": {},
   "outputs": [
    {
     "data": {
      "text/html": [
       "<div>\n",
       "<style scoped>\n",
       "    .dataframe tbody tr th:only-of-type {\n",
       "        vertical-align: middle;\n",
       "    }\n",
       "\n",
       "    .dataframe tbody tr th {\n",
       "        vertical-align: top;\n",
       "    }\n",
       "\n",
       "    .dataframe thead th {\n",
       "        text-align: right;\n",
       "    }\n",
       "</style>\n",
       "<table border=\"1\" class=\"dataframe\">\n",
       "  <thead>\n",
       "    <tr style=\"text-align: right;\">\n",
       "      <th></th>\n",
       "      <th>SLNO</th>\n",
       "      <th>EDU</th>\n",
       "      <th>OCC</th>\n",
       "      <th>M_STAT</th>\n",
       "      <th>A1_01</th>\n",
       "      <th>A1_02</th>\n",
       "      <th>A1_03</th>\n",
       "      <th>A1_04</th>\n",
       "      <th>A1_05</th>\n",
       "      <th>A1_06</th>\n",
       "      <th>...</th>\n",
       "      <th>A1_12</th>\n",
       "      <th>A1_13</th>\n",
       "      <th>A1_14</th>\n",
       "      <th>A1_15</th>\n",
       "      <th>A1_16</th>\n",
       "      <th>A1_17</th>\n",
       "      <th>A1_18</th>\n",
       "      <th>A1_19</th>\n",
       "      <th>A1_20</th>\n",
       "      <th>A1_21</th>\n",
       "    </tr>\n",
       "  </thead>\n",
       "  <tbody>\n",
       "    <tr>\n",
       "      <th>0</th>\n",
       "      <td>101023</td>\n",
       "      <td>6</td>\n",
       "      <td>1</td>\n",
       "      <td>2</td>\n",
       "      <td>5</td>\n",
       "      <td>3</td>\n",
       "      <td>4</td>\n",
       "      <td>5</td>\n",
       "      <td>3</td>\n",
       "      <td>4</td>\n",
       "      <td>...</td>\n",
       "      <td>5</td>\n",
       "      <td>5</td>\n",
       "      <td>4</td>\n",
       "      <td>5</td>\n",
       "      <td>1</td>\n",
       "      <td>4</td>\n",
       "      <td>3</td>\n",
       "      <td>5</td>\n",
       "      <td>4</td>\n",
       "      <td>4</td>\n",
       "    </tr>\n",
       "    <tr>\n",
       "      <th>1</th>\n",
       "      <td>101024</td>\n",
       "      <td>5</td>\n",
       "      <td>5</td>\n",
       "      <td>1</td>\n",
       "      <td>5</td>\n",
       "      <td>4</td>\n",
       "      <td>3</td>\n",
       "      <td>3</td>\n",
       "      <td>4</td>\n",
       "      <td>5</td>\n",
       "      <td>...</td>\n",
       "      <td>4</td>\n",
       "      <td>4</td>\n",
       "      <td>5</td>\n",
       "      <td>5</td>\n",
       "      <td>1</td>\n",
       "      <td>3</td>\n",
       "      <td>3</td>\n",
       "      <td>5</td>\n",
       "      <td>4</td>\n",
       "      <td>5</td>\n",
       "    </tr>\n",
       "    <tr>\n",
       "      <th>2</th>\n",
       "      <td>101025</td>\n",
       "      <td>6</td>\n",
       "      <td>3</td>\n",
       "      <td>2</td>\n",
       "      <td>5</td>\n",
       "      <td>3</td>\n",
       "      <td>4</td>\n",
       "      <td>3</td>\n",
       "      <td>3</td>\n",
       "      <td>4</td>\n",
       "      <td>...</td>\n",
       "      <td>5</td>\n",
       "      <td>4</td>\n",
       "      <td>5</td>\n",
       "      <td>1</td>\n",
       "      <td>4</td>\n",
       "      <td>3</td>\n",
       "      <td>4</td>\n",
       "      <td>5</td>\n",
       "      <td>4</td>\n",
       "      <td>4</td>\n",
       "    </tr>\n",
       "    <tr>\n",
       "      <th>3</th>\n",
       "      <td>101026</td>\n",
       "      <td>5</td>\n",
       "      <td>1</td>\n",
       "      <td>2</td>\n",
       "      <td>5</td>\n",
       "      <td>3</td>\n",
       "      <td>5</td>\n",
       "      <td>4</td>\n",
       "      <td>3</td>\n",
       "      <td>5</td>\n",
       "      <td>...</td>\n",
       "      <td>4</td>\n",
       "      <td>5</td>\n",
       "      <td>5</td>\n",
       "      <td>4</td>\n",
       "      <td>2</td>\n",
       "      <td>4</td>\n",
       "      <td>3</td>\n",
       "      <td>5</td>\n",
       "      <td>4</td>\n",
       "      <td>4</td>\n",
       "    </tr>\n",
       "    <tr>\n",
       "      <th>4</th>\n",
       "      <td>101027</td>\n",
       "      <td>7</td>\n",
       "      <td>3</td>\n",
       "      <td>1</td>\n",
       "      <td>5</td>\n",
       "      <td>3</td>\n",
       "      <td>4</td>\n",
       "      <td>5</td>\n",
       "      <td>3</td>\n",
       "      <td>5</td>\n",
       "      <td>...</td>\n",
       "      <td>5</td>\n",
       "      <td>4</td>\n",
       "      <td>5</td>\n",
       "      <td>5</td>\n",
       "      <td>1</td>\n",
       "      <td>3</td>\n",
       "      <td>3</td>\n",
       "      <td>4</td>\n",
       "      <td>5</td>\n",
       "      <td>5</td>\n",
       "    </tr>\n",
       "  </tbody>\n",
       "</table>\n",
       "<p>5 rows × 25 columns</p>\n",
       "</div>"
      ],
      "text/plain": [
       "     SLNO  EDU  OCC  M_STAT  A1_01  A1_02  A1_03  A1_04  A1_05  A1_06  ...  \\\n",
       "0  101023    6    1       2      5      3      4      5      3      4  ...   \n",
       "1  101024    5    5       1      5      4      3      3      4      5  ...   \n",
       "2  101025    6    3       2      5      3      4      3      3      4  ...   \n",
       "3  101026    5    1       2      5      3      5      4      3      5  ...   \n",
       "4  101027    7    3       1      5      3      4      5      3      5  ...   \n",
       "\n",
       "   A1_12  A1_13  A1_14  A1_15  A1_16  A1_17  A1_18  A1_19  A1_20  A1_21  \n",
       "0      5      5      4      5      1      4      3      5      4      4  \n",
       "1      4      4      5      5      1      3      3      5      4      5  \n",
       "2      5      4      5      1      4      3      4      5      4      4  \n",
       "3      4      5      5      4      2      4      3      5      4      4  \n",
       "4      5      4      5      5      1      3      3      4      5      5  \n",
       "\n",
       "[5 rows x 25 columns]"
      ]
     },
     "execution_count": 3,
     "metadata": {},
     "output_type": "execute_result"
    }
   ],
   "source": [
    "groom.head()"
   ]
  },
  {
   "cell_type": "code",
   "execution_count": 4,
   "id": "ec5fb2a2",
   "metadata": {},
   "outputs": [
    {
     "name": "stdout",
     "output_type": "stream",
     "text": [
      "<class 'pandas.core.frame.DataFrame'>\n",
      "RangeIndex: 3499 entries, 0 to 3498\n",
      "Data columns (total 25 columns):\n",
      " #   Column  Non-Null Count  Dtype\n",
      "---  ------  --------------  -----\n",
      " 0   SLNO    3499 non-null   int64\n",
      " 1   EDU     3499 non-null   int64\n",
      " 2   OCC     3499 non-null   int64\n",
      " 3   M_STAT  3499 non-null   int64\n",
      " 4   A1_01   3499 non-null   int64\n",
      " 5   A1_02   3499 non-null   int64\n",
      " 6   A1_03   3499 non-null   int64\n",
      " 7   A1_04   3499 non-null   int64\n",
      " 8   A1_05   3499 non-null   int64\n",
      " 9   A1_06   3499 non-null   int64\n",
      " 10  A1_07   3499 non-null   int64\n",
      " 11  A1_08   3499 non-null   int64\n",
      " 12  A1_09   3499 non-null   int64\n",
      " 13  A1_10   3499 non-null   int64\n",
      " 14  A1_11   3499 non-null   int64\n",
      " 15  A1_12   3499 non-null   int64\n",
      " 16  A1_13   3499 non-null   int64\n",
      " 17  A1_14   3499 non-null   int64\n",
      " 18  A1_15   3499 non-null   int64\n",
      " 19  A1_16   3499 non-null   int64\n",
      " 20  A1_17   3499 non-null   int64\n",
      " 21  A1_18   3499 non-null   int64\n",
      " 22  A1_19   3499 non-null   int64\n",
      " 23  A1_20   3499 non-null   int64\n",
      " 24  A1_21   3499 non-null   int64\n",
      "dtypes: int64(25)\n",
      "memory usage: 683.5 KB\n"
     ]
    }
   ],
   "source": [
    "#a data set with 3499 rows, all integers and no null values\n",
    "groom.info()"
   ]
  },
  {
   "cell_type": "code",
   "execution_count": 5,
   "id": "0bb659a3",
   "metadata": {},
   "outputs": [
    {
     "data": {
      "text/html": [
       "<div>\n",
       "<style scoped>\n",
       "    .dataframe tbody tr th:only-of-type {\n",
       "        vertical-align: middle;\n",
       "    }\n",
       "\n",
       "    .dataframe tbody tr th {\n",
       "        vertical-align: top;\n",
       "    }\n",
       "\n",
       "    .dataframe thead th {\n",
       "        text-align: right;\n",
       "    }\n",
       "</style>\n",
       "<table border=\"1\" class=\"dataframe\">\n",
       "  <thead>\n",
       "    <tr style=\"text-align: right;\">\n",
       "      <th></th>\n",
       "      <th>SLNO</th>\n",
       "      <th>EDU</th>\n",
       "      <th>OCC</th>\n",
       "      <th>M_STAT</th>\n",
       "      <th>A1_01</th>\n",
       "      <th>A1_02</th>\n",
       "      <th>A1_03</th>\n",
       "      <th>A1_04</th>\n",
       "      <th>A1_05</th>\n",
       "      <th>A1_06</th>\n",
       "      <th>...</th>\n",
       "      <th>A1_12</th>\n",
       "      <th>A1_13</th>\n",
       "      <th>A1_14</th>\n",
       "      <th>A1_15</th>\n",
       "      <th>A1_16</th>\n",
       "      <th>A1_17</th>\n",
       "      <th>A1_18</th>\n",
       "      <th>A1_19</th>\n",
       "      <th>A1_20</th>\n",
       "      <th>A1_21</th>\n",
       "    </tr>\n",
       "  </thead>\n",
       "  <tbody>\n",
       "    <tr>\n",
       "      <th>count</th>\n",
       "      <td>3.499000e+03</td>\n",
       "      <td>3499.000000</td>\n",
       "      <td>3499.000000</td>\n",
       "      <td>3499.000000</td>\n",
       "      <td>3499.000000</td>\n",
       "      <td>3499.000000</td>\n",
       "      <td>3499.000000</td>\n",
       "      <td>3499.000000</td>\n",
       "      <td>3499.000000</td>\n",
       "      <td>3499.000000</td>\n",
       "      <td>...</td>\n",
       "      <td>3499.000000</td>\n",
       "      <td>3499.000000</td>\n",
       "      <td>3499.000000</td>\n",
       "      <td>3499.000000</td>\n",
       "      <td>3499.000000</td>\n",
       "      <td>3499.000000</td>\n",
       "      <td>3499.000000</td>\n",
       "      <td>3499.000000</td>\n",
       "      <td>3499.000000</td>\n",
       "      <td>3499.000000</td>\n",
       "    </tr>\n",
       "    <tr>\n",
       "      <th>mean</th>\n",
       "      <td>3.285796e+06</td>\n",
       "      <td>5.721063</td>\n",
       "      <td>2.621892</td>\n",
       "      <td>1.715919</td>\n",
       "      <td>4.309803</td>\n",
       "      <td>3.594170</td>\n",
       "      <td>4.143755</td>\n",
       "      <td>3.880823</td>\n",
       "      <td>4.110889</td>\n",
       "      <td>4.056588</td>\n",
       "      <td>...</td>\n",
       "      <td>4.023435</td>\n",
       "      <td>4.142041</td>\n",
       "      <td>4.185196</td>\n",
       "      <td>4.100600</td>\n",
       "      <td>3.540440</td>\n",
       "      <td>3.899686</td>\n",
       "      <td>3.968277</td>\n",
       "      <td>4.063447</td>\n",
       "      <td>4.077451</td>\n",
       "      <td>3.968562</td>\n",
       "    </tr>\n",
       "    <tr>\n",
       "      <th>std</th>\n",
       "      <td>1.778662e+06</td>\n",
       "      <td>0.979749</td>\n",
       "      <td>1.374309</td>\n",
       "      <td>0.462308</td>\n",
       "      <td>0.798472</td>\n",
       "      <td>1.205064</td>\n",
       "      <td>0.795336</td>\n",
       "      <td>0.964389</td>\n",
       "      <td>0.829518</td>\n",
       "      <td>0.839763</td>\n",
       "      <td>...</td>\n",
       "      <td>0.879549</td>\n",
       "      <td>0.856550</td>\n",
       "      <td>0.805568</td>\n",
       "      <td>0.898921</td>\n",
       "      <td>1.274394</td>\n",
       "      <td>0.930364</td>\n",
       "      <td>1.030895</td>\n",
       "      <td>0.847408</td>\n",
       "      <td>0.879539</td>\n",
       "      <td>0.931094</td>\n",
       "    </tr>\n",
       "    <tr>\n",
       "      <th>min</th>\n",
       "      <td>1.010230e+05</td>\n",
       "      <td>1.000000</td>\n",
       "      <td>1.000000</td>\n",
       "      <td>1.000000</td>\n",
       "      <td>1.000000</td>\n",
       "      <td>1.000000</td>\n",
       "      <td>1.000000</td>\n",
       "      <td>1.000000</td>\n",
       "      <td>1.000000</td>\n",
       "      <td>1.000000</td>\n",
       "      <td>...</td>\n",
       "      <td>1.000000</td>\n",
       "      <td>1.000000</td>\n",
       "      <td>1.000000</td>\n",
       "      <td>1.000000</td>\n",
       "      <td>1.000000</td>\n",
       "      <td>1.000000</td>\n",
       "      <td>1.000000</td>\n",
       "      <td>1.000000</td>\n",
       "      <td>1.000000</td>\n",
       "      <td>1.000000</td>\n",
       "    </tr>\n",
       "    <tr>\n",
       "      <th>25%</th>\n",
       "      <td>1.602574e+06</td>\n",
       "      <td>6.000000</td>\n",
       "      <td>1.000000</td>\n",
       "      <td>1.000000</td>\n",
       "      <td>4.000000</td>\n",
       "      <td>3.000000</td>\n",
       "      <td>4.000000</td>\n",
       "      <td>3.000000</td>\n",
       "      <td>4.000000</td>\n",
       "      <td>4.000000</td>\n",
       "      <td>...</td>\n",
       "      <td>4.000000</td>\n",
       "      <td>4.000000</td>\n",
       "      <td>4.000000</td>\n",
       "      <td>4.000000</td>\n",
       "      <td>3.000000</td>\n",
       "      <td>3.000000</td>\n",
       "      <td>3.000000</td>\n",
       "      <td>4.000000</td>\n",
       "      <td>4.000000</td>\n",
       "      <td>4.000000</td>\n",
       "    </tr>\n",
       "    <tr>\n",
       "      <th>50%</th>\n",
       "      <td>3.404113e+06</td>\n",
       "      <td>6.000000</td>\n",
       "      <td>3.000000</td>\n",
       "      <td>2.000000</td>\n",
       "      <td>4.000000</td>\n",
       "      <td>4.000000</td>\n",
       "      <td>4.000000</td>\n",
       "      <td>4.000000</td>\n",
       "      <td>4.000000</td>\n",
       "      <td>4.000000</td>\n",
       "      <td>...</td>\n",
       "      <td>4.000000</td>\n",
       "      <td>4.000000</td>\n",
       "      <td>4.000000</td>\n",
       "      <td>4.000000</td>\n",
       "      <td>4.000000</td>\n",
       "      <td>4.000000</td>\n",
       "      <td>4.000000</td>\n",
       "      <td>4.000000</td>\n",
       "      <td>4.000000</td>\n",
       "      <td>4.000000</td>\n",
       "    </tr>\n",
       "    <tr>\n",
       "      <th>75%</th>\n",
       "      <td>4.805642e+06</td>\n",
       "      <td>6.000000</td>\n",
       "      <td>3.000000</td>\n",
       "      <td>2.000000</td>\n",
       "      <td>5.000000</td>\n",
       "      <td>4.000000</td>\n",
       "      <td>5.000000</td>\n",
       "      <td>5.000000</td>\n",
       "      <td>5.000000</td>\n",
       "      <td>5.000000</td>\n",
       "      <td>...</td>\n",
       "      <td>5.000000</td>\n",
       "      <td>5.000000</td>\n",
       "      <td>5.000000</td>\n",
       "      <td>5.000000</td>\n",
       "      <td>5.000000</td>\n",
       "      <td>5.000000</td>\n",
       "      <td>5.000000</td>\n",
       "      <td>5.000000</td>\n",
       "      <td>5.000000</td>\n",
       "      <td>5.000000</td>\n",
       "    </tr>\n",
       "    <tr>\n",
       "      <th>max</th>\n",
       "      <td>6.306274e+06</td>\n",
       "      <td>7.000000</td>\n",
       "      <td>5.000000</td>\n",
       "      <td>3.000000</td>\n",
       "      <td>5.000000</td>\n",
       "      <td>5.000000</td>\n",
       "      <td>5.000000</td>\n",
       "      <td>5.000000</td>\n",
       "      <td>5.000000</td>\n",
       "      <td>5.000000</td>\n",
       "      <td>...</td>\n",
       "      <td>5.000000</td>\n",
       "      <td>5.000000</td>\n",
       "      <td>5.000000</td>\n",
       "      <td>5.000000</td>\n",
       "      <td>5.000000</td>\n",
       "      <td>5.000000</td>\n",
       "      <td>5.000000</td>\n",
       "      <td>5.000000</td>\n",
       "      <td>5.000000</td>\n",
       "      <td>5.000000</td>\n",
       "    </tr>\n",
       "  </tbody>\n",
       "</table>\n",
       "<p>8 rows × 25 columns</p>\n",
       "</div>"
      ],
      "text/plain": [
       "               SLNO          EDU          OCC       M_STAT        A1_01  \\\n",
       "count  3.499000e+03  3499.000000  3499.000000  3499.000000  3499.000000   \n",
       "mean   3.285796e+06     5.721063     2.621892     1.715919     4.309803   \n",
       "std    1.778662e+06     0.979749     1.374309     0.462308     0.798472   \n",
       "min    1.010230e+05     1.000000     1.000000     1.000000     1.000000   \n",
       "25%    1.602574e+06     6.000000     1.000000     1.000000     4.000000   \n",
       "50%    3.404113e+06     6.000000     3.000000     2.000000     4.000000   \n",
       "75%    4.805642e+06     6.000000     3.000000     2.000000     5.000000   \n",
       "max    6.306274e+06     7.000000     5.000000     3.000000     5.000000   \n",
       "\n",
       "             A1_02        A1_03        A1_04        A1_05        A1_06  ...  \\\n",
       "count  3499.000000  3499.000000  3499.000000  3499.000000  3499.000000  ...   \n",
       "mean      3.594170     4.143755     3.880823     4.110889     4.056588  ...   \n",
       "std       1.205064     0.795336     0.964389     0.829518     0.839763  ...   \n",
       "min       1.000000     1.000000     1.000000     1.000000     1.000000  ...   \n",
       "25%       3.000000     4.000000     3.000000     4.000000     4.000000  ...   \n",
       "50%       4.000000     4.000000     4.000000     4.000000     4.000000  ...   \n",
       "75%       4.000000     5.000000     5.000000     5.000000     5.000000  ...   \n",
       "max       5.000000     5.000000     5.000000     5.000000     5.000000  ...   \n",
       "\n",
       "             A1_12        A1_13        A1_14        A1_15        A1_16  \\\n",
       "count  3499.000000  3499.000000  3499.000000  3499.000000  3499.000000   \n",
       "mean      4.023435     4.142041     4.185196     4.100600     3.540440   \n",
       "std       0.879549     0.856550     0.805568     0.898921     1.274394   \n",
       "min       1.000000     1.000000     1.000000     1.000000     1.000000   \n",
       "25%       4.000000     4.000000     4.000000     4.000000     3.000000   \n",
       "50%       4.000000     4.000000     4.000000     4.000000     4.000000   \n",
       "75%       5.000000     5.000000     5.000000     5.000000     5.000000   \n",
       "max       5.000000     5.000000     5.000000     5.000000     5.000000   \n",
       "\n",
       "             A1_17        A1_18        A1_19        A1_20        A1_21  \n",
       "count  3499.000000  3499.000000  3499.000000  3499.000000  3499.000000  \n",
       "mean      3.899686     3.968277     4.063447     4.077451     3.968562  \n",
       "std       0.930364     1.030895     0.847408     0.879539     0.931094  \n",
       "min       1.000000     1.000000     1.000000     1.000000     1.000000  \n",
       "25%       3.000000     3.000000     4.000000     4.000000     4.000000  \n",
       "50%       4.000000     4.000000     4.000000     4.000000     4.000000  \n",
       "75%       5.000000     5.000000     5.000000     5.000000     5.000000  \n",
       "max       5.000000     5.000000     5.000000     5.000000     5.000000  \n",
       "\n",
       "[8 rows x 25 columns]"
      ]
     },
     "execution_count": 5,
     "metadata": {},
     "output_type": "execute_result"
    }
   ],
   "source": [
    "groom.describe()"
   ]
  },
  {
   "cell_type": "code",
   "execution_count": 43,
   "id": "f59453eb",
   "metadata": {},
   "outputs": [
    {
     "data": {
      "text/plain": [
       "2    2469\n",
       "1    1012\n",
       "3      18\n",
       "Name: M_STAT, dtype: int64"
      ]
     },
     "execution_count": 43,
     "metadata": {},
     "output_type": "execute_result"
    }
   ],
   "source": [
    "#understanding the relationship status of our respondents\n",
    "groom['M_STAT'].value_counts()"
   ]
  },
  {
   "cell_type": "code",
   "execution_count": 45,
   "id": "326d8000",
   "metadata": {},
   "outputs": [
    {
     "data": {
      "text/html": [
       "<div>\n",
       "<style scoped>\n",
       "    .dataframe tbody tr th:only-of-type {\n",
       "        vertical-align: middle;\n",
       "    }\n",
       "\n",
       "    .dataframe tbody tr th {\n",
       "        vertical-align: top;\n",
       "    }\n",
       "\n",
       "    .dataframe thead th {\n",
       "        text-align: right;\n",
       "    }\n",
       "</style>\n",
       "<table border=\"1\" class=\"dataframe\">\n",
       "  <thead>\n",
       "    <tr style=\"text-align: right;\">\n",
       "      <th></th>\n",
       "      <th>A1_11</th>\n",
       "    </tr>\n",
       "    <tr>\n",
       "      <th>M_STAT</th>\n",
       "      <th></th>\n",
       "    </tr>\n",
       "  </thead>\n",
       "  <tbody>\n",
       "    <tr>\n",
       "      <th>1</th>\n",
       "      <td>4.166996</td>\n",
       "    </tr>\n",
       "    <tr>\n",
       "      <th>2</th>\n",
       "      <td>4.142973</td>\n",
       "    </tr>\n",
       "    <tr>\n",
       "      <th>3</th>\n",
       "      <td>4.333333</td>\n",
       "    </tr>\n",
       "  </tbody>\n",
       "</table>\n",
       "</div>"
      ],
      "text/plain": [
       "           A1_11\n",
       "M_STAT          \n",
       "1       4.166996\n",
       "2       4.142973\n",
       "3       4.333333"
      ]
     },
     "execution_count": 45,
     "metadata": {},
     "output_type": "execute_result"
    }
   ],
   "source": [
    "#understanding the relationship between marital status and personal grooming as important for confidence (question A1_11)\n",
    "#We can see that respondents that are divorced or widowed, have the highest regard for personal grooming as a source of confidence with a score of 4.3, meaning on average people agreed with the statement\n",
    "#Those in a relationship or married, on average agreed but less likely on average to strongly agree (score of 5), than the other categories\n",
    "groom.groupby(['M_STAT'])[['A1_11']].mean()\n",
    "\n"
   ]
  },
  {
   "cell_type": "code",
   "execution_count": 52,
   "id": "0bdd58d7",
   "metadata": {},
   "outputs": [
    {
     "data": {
      "text/plain": [
       "Text(0, 0.5, 'Agreement with Question')"
      ]
     },
     "execution_count": 52,
     "metadata": {},
     "output_type": "execute_result"
    },
    {
     "data": {
      "image/png": "[encoded data removed]",
      "text/plain": [
       "<Figure size 432x288 with 1 Axes>"
      ]
     },
     "metadata": {
      "needs_background": "light"
     },
     "output_type": "display_data"
    }
   ],
   "source": [
    "#using a boxplot graph to visualise this relationship\n",
    "#on average all categories 'agreed' with the statement and had respondents that 'strongly agreed' (score 5)\n",
    "#No Widow/ divorcee disagreed or strongly disagreed that personal grooming gave them confidence. Albeit there are less repondents in this category\n",
    "#Certain Single and Married respondents strongly disagreed with the statement\n",
    "#Marketing teams could focus on creating campaigns around confidence building with grooming for single and relationship people.\n",
    "single = groom[groom[\"M_STAT\"] == 1]\n",
    "relation = groom[groom[\"M_STAT\"]== 2]\n",
    "widdiv= groom[groom[\"M_STAT\"]== 3]\n",
    "\n",
    "plt.boxplot((single[\"A1_11\"],relation[\"A1_11\"],widdiv[\"A1_11\"]), labels=(\"Single\", \"Married\", \"Widow/ Divorce\"))\n",
    "\n",
    "\n",
    "plt.title(\"Boxplot for Relationship Status vs Personal Grooming for Confidence\")\n",
    "plt.ylabel(\"Agreement with Question\")"
   ]
  },
  {
   "cell_type": "code",
   "execution_count": 53,
   "id": "95aaadc8",
   "metadata": {},
   "outputs": [
    {
     "data": {
      "text/plain": [
       "3    1552\n",
       "1    1171\n",
       "5     549\n",
       "2     153\n",
       "4      74\n",
       "Name: OCC, dtype: int64"
      ]
     },
     "execution_count": 53,
     "metadata": {},
     "output_type": "execute_result"
    }
   ],
   "source": [
    "#understanding the occupation of respondents\n",
    "#the biggest group is homemakers (1552 respondents), the next highest category is full-time employees (1171). The occupation with the least respondents was '4' (not doing anything/ ie. unemployed) with 74 respondents.\n",
    "groom['OCC'].value_counts()"
   ]
  },
  {
   "cell_type": "code",
   "execution_count": 102,
   "id": "b53d476f",
   "metadata": {},
   "outputs": [
    {
     "data": {
      "text/plain": [
       "3    1234\n",
       "1     924\n",
       "5     449\n",
       "2     119\n",
       "4      50\n",
       "Name: OCC, dtype: int64"
      ]
     },
     "execution_count": 102,
     "metadata": {},
     "output_type": "execute_result"
    }
   ],
   "source": [
    "#Assessing the answer to the question A1_05: personal grooming is a day to day activity\n",
    "# To find which occupation produces the biggest agreement with this statement, I filtered the dataframe for respondents who agreed or strongly agreed.  \n",
    "everyday = groom[groom['A1_05']>3]\n",
    "everyday['OCC'].value_counts()"
   ]
  },
  {
   "cell_type": "code",
   "execution_count": 94,
   "id": "0b168bea",
   "metadata": {},
   "outputs": [
    {
     "name": "stdout",
     "output_type": "stream",
     "text": [
      "% Homemakers who agree:  0.8\n",
      "% FTE who agree:  0.79\n",
      "% Students who agree:  0.82\n",
      "% PTE who agree:  0.78\n",
      "% Unemployed who agree:  0.68\n"
     ]
    }
   ],
   "source": [
    "#Dividing respondents that agree with total number of respondents in that occupation category to be able to compare relative agreement \n",
    "print(\"% Homemakers who agree: \", round(1234/1552, 2))\n",
    "print(\"% FTE who agree: \", round(924/1171, 2))\n",
    "print(\"% Students who agree: \", round(449/549, 2))\n",
    "print(\"% PTE who agree: \", round(119/153, 2))\n",
    "print(\"% Unemployed who agree: \", round(50/74, 2))\n",
    "\n"
   ]
  },
  {
   "cell_type": "code",
   "execution_count": 95,
   "id": "75033884",
   "metadata": {},
   "outputs": [
    {
     "data": {
      "text/plain": [
       "3    66\n",
       "1    16\n",
       "5    16\n",
       "2     8\n",
       "Name: OCC, dtype: int64"
      ]
     },
     "execution_count": 95,
     "metadata": {},
     "output_type": "execute_result"
    }
   ],
   "source": [
    "#The same was run for disagreement.\n",
    "\n",
    "noteveryday = groom[groom['A1_05']<3]\n",
    "noteveryday['OCC'].value_counts()"
   ]
  },
  {
   "cell_type": "code",
   "execution_count": 97,
   "id": "e1224292",
   "metadata": {},
   "outputs": [
    {
     "name": "stdout",
     "output_type": "stream",
     "text": [
      "% homemakers who disagree:  0.04\n",
      "% FTE who disagree:  0.01\n",
      "% students who disagree:  0.03\n",
      "% PTE who disagree:  0.05\n"
     ]
    }
   ],
   "source": [
    "#personal grooming is an everday activity, how many people disagree?\n",
    "\n",
    "\n",
    "print(\"% homemakers who disagree: \", round(66/1552, 2))\n",
    "print(\"% FTE who disagree: \", round(16/1171, 2))\n",
    "print(\"% students who disagree: \", round(16/549, 2))\n",
    "print(\"% PTE who disagree: \", round(8/153, 2))\n",
    "\n"
   ]
  },
  {
   "cell_type": "code",
   "execution_count": 99,
   "id": "f2a95854",
   "metadata": {},
   "outputs": [
    {
     "data": {
      "text/plain": [
       "3    252\n",
       "1    231\n",
       "5     84\n",
       "2     26\n",
       "4     24\n",
       "Name: OCC, dtype: int64"
      ]
     },
     "execution_count": 99,
     "metadata": {},
     "output_type": "execute_result"
    }
   ],
   "source": [
    "#personal grooming is just an indulgence, how many people are ambivalent?\n",
    "\n",
    "\n",
    "ambiveveryday = groom[groom['A1_05']==3]\n",
    "ambiveveryday['OCC'].value_counts()"
   ]
  },
  {
   "cell_type": "code",
   "execution_count": 100,
   "id": "2d702435",
   "metadata": {},
   "outputs": [
    {
     "name": "stdout",
     "output_type": "stream",
     "text": [
      "% homemakers who are neutral:  0.16\n",
      "% FTE who are neutral:  0.2\n",
      "% students who are neutral:  0.15\n",
      "% PTE who are neutral:  0.17\n",
      "% Unemployed who are neutral:  0.32\n"
     ]
    }
   ],
   "source": [
    "\n",
    "\n",
    "print(\"% homemakers who are neutral: \", round(252/1552, 2))\n",
    "print(\"% FTE who are neutral: \", round(231/1171, 2))\n",
    "print(\"% students who are neutral: \", round(84/549, 2))\n",
    "print(\"% PTE who are neutral: \", round(26/153, 2))\n",
    "print(\"% Unemployed who are neutral: \", round(24/74, 2))\n",
    "\n",
    "\n",
    "\n"
   ]
  },
  {
   "cell_type": "code",
   "execution_count": null,
   "id": "9e9ab039",
   "metadata": {},
   "outputs": [],
   "source": [
    "#Insights:\n",
    "#From the data it is clear that students and homemakers would be best to target with everyday grooming products as this segment agreed and strongly agreed the most with the statement that personal grooming boosts confidence\n",
    "#It could be also be interesting to market everyday grooming products to unemployed: no one disagreed with the statement that it is important to do everyday but 32% neither disagree nor agree. This might mean that they could be more easily convinced to adopt everyday grooming products\n"
   ]
  },
  {
   "cell_type": "code",
   "execution_count": 101,
   "id": "ffbe567b",
   "metadata": {},
   "outputs": [
    {
     "data": {
      "image/png": "[encoded data removed]",
      "text/plain": [
       "<Figure size 432x288 with 1 Axes>"
      ]
     },
     "metadata": {
      "needs_background": "light"
     },
     "output_type": "display_data"
    }
   ],
   "source": [
    "#There are 21 questions and appraoches to take in this data\n",
    "#I am particularly interested in whether respondents view personal grooming as a necessary everyday activity or an indulgence\n",
    "#I created an induglence score ie. the combined answer to questions 4 and 18 which ask if respondents feel personal grooming is 'not an everyday activity' and 'specific occasions' eg. 'a party' \n",
    "#10 = personal grooming is an indulgence -> 0 personal grooming is an everday activity\n",
    "groom['indulgescore']=groom['A1_04']+ groom['A1_18']\n",
    "\n",
    "FTE = groom[groom[\"OCC\"] == 1]\n",
    "PTE = groom[groom[\"OCC\"]== 2]\n",
    "home= groom[groom[\"OCC\"]== 3]\n",
    "UE = groom[groom[\"OCC\"]== 4]\n",
    "study = groom[groom[\"OCC\"]== 5]\n",
    "\n",
    "plt.boxplot((FTE['indulgescore'], PTE['indulgescore'], home['indulgescore'], UE['indulgescore'], study['indulgescore']), labels=(\"FTE\", \"PTE\", \"Home\", \"Unemployed\", \"Study\"))\n",
    "\n",
    "plt.title(\"Boxplot for Occupation vs Personal Grooming as Indulgence\")\n",
    "plt.ylabel(\"Agreement with Both Questions\");\n"
   ]
  },
  {
   "cell_type": "code",
   "execution_count": null,
   "id": "d44397e3",
   "metadata": {},
   "outputs": [],
   "source": [
    "#from this data visualisation, we can see most categories on average felt that personal grooming was somewaht an indlugence (mean score above5)\n",
    "#we can also see that in every occupation category, some respondents view it as an everyday activity\n",
    "#Part time employees agreed the most on average that personal grooming is an indulgence, with an averge score of 9. "
   ]
  },
  {
   "cell_type": "code",
   "execution_count": 6,
   "id": "0dd82bfe",
   "metadata": {
    "scrolled": true
   },
   "outputs": [
    {
     "data": {
      "text/plain": [
       "Index(['SLNO', 'EDU', 'OCC', 'M_STAT', 'A1_01', 'A1_02', 'A1_03', 'A1_04',\n",
       "       'A1_05', 'A1_06', 'A1_07', 'A1_08', 'A1_09', 'A1_10', 'A1_11', 'A1_12',\n",
       "       'A1_13', 'A1_14', 'A1_15', 'A1_16', 'A1_17', 'A1_18', 'A1_19', 'A1_20',\n",
       "       'A1_21'],\n",
       "      dtype='object')"
      ]
     },
     "execution_count": 6,
     "metadata": {},
     "output_type": "execute_result"
    }
   ],
   "source": [
    "groom.columns"
   ]
  },
  {
   "cell_type": "code",
   "execution_count": 28,
   "id": "c1d884cf",
   "metadata": {},
   "outputs": [
    {
     "data": {
      "text/html": [
       "<div>\n",
       "<style scoped>\n",
       "    .dataframe tbody tr th:only-of-type {\n",
       "        vertical-align: middle;\n",
       "    }\n",
       "\n",
       "    .dataframe tbody tr th {\n",
       "        vertical-align: top;\n",
       "    }\n",
       "\n",
       "    .dataframe thead th {\n",
       "        text-align: right;\n",
       "    }\n",
       "</style>\n",
       "<table border=\"1\" class=\"dataframe\">\n",
       "  <thead>\n",
       "    <tr style=\"text-align: right;\">\n",
       "      <th></th>\n",
       "      <th>EDU</th>\n",
       "      <th>OCC</th>\n",
       "      <th>M_STAT</th>\n",
       "      <th>A1_02</th>\n",
       "      <th>A1_04</th>\n",
       "      <th>A1_05</th>\n",
       "      <th>A1_16</th>\n",
       "      <th>A1_18</th>\n",
       "    </tr>\n",
       "  </thead>\n",
       "  <tbody>\n",
       "    <tr>\n",
       "      <th>EDU</th>\n",
       "      <td>1.000000</td>\n",
       "      <td>-0.113808</td>\n",
       "      <td>-0.122610</td>\n",
       "      <td>-0.012371</td>\n",
       "      <td>0.035001</td>\n",
       "      <td>0.037014</td>\n",
       "      <td>-0.028055</td>\n",
       "      <td>0.010766</td>\n",
       "    </tr>\n",
       "    <tr>\n",
       "      <th>OCC</th>\n",
       "      <td>-0.113808</td>\n",
       "      <td>1.000000</td>\n",
       "      <td>-0.272147</td>\n",
       "      <td>0.030223</td>\n",
       "      <td>0.015385</td>\n",
       "      <td>-0.016624</td>\n",
       "      <td>-0.013058</td>\n",
       "      <td>0.013525</td>\n",
       "    </tr>\n",
       "    <tr>\n",
       "      <th>M_STAT</th>\n",
       "      <td>-0.122610</td>\n",
       "      <td>-0.272147</td>\n",
       "      <td>1.000000</td>\n",
       "      <td>-0.038689</td>\n",
       "      <td>-0.018891</td>\n",
       "      <td>0.000167</td>\n",
       "      <td>-0.014946</td>\n",
       "      <td>0.010477</td>\n",
       "    </tr>\n",
       "    <tr>\n",
       "      <th>A1_02</th>\n",
       "      <td>-0.012371</td>\n",
       "      <td>0.030223</td>\n",
       "      <td>-0.038689</td>\n",
       "      <td>1.000000</td>\n",
       "      <td>0.343099</td>\n",
       "      <td>0.207186</td>\n",
       "      <td>0.494684</td>\n",
       "      <td>0.287870</td>\n",
       "    </tr>\n",
       "    <tr>\n",
       "      <th>A1_04</th>\n",
       "      <td>0.035001</td>\n",
       "      <td>0.015385</td>\n",
       "      <td>-0.018891</td>\n",
       "      <td>0.343099</td>\n",
       "      <td>1.000000</td>\n",
       "      <td>0.155536</td>\n",
       "      <td>0.352020</td>\n",
       "      <td>0.241764</td>\n",
       "    </tr>\n",
       "    <tr>\n",
       "      <th>A1_05</th>\n",
       "      <td>0.037014</td>\n",
       "      <td>-0.016624</td>\n",
       "      <td>0.000167</td>\n",
       "      <td>0.207186</td>\n",
       "      <td>0.155536</td>\n",
       "      <td>1.000000</td>\n",
       "      <td>0.137731</td>\n",
       "      <td>0.226426</td>\n",
       "    </tr>\n",
       "    <tr>\n",
       "      <th>A1_16</th>\n",
       "      <td>-0.028055</td>\n",
       "      <td>-0.013058</td>\n",
       "      <td>-0.014946</td>\n",
       "      <td>0.494684</td>\n",
       "      <td>0.352020</td>\n",
       "      <td>0.137731</td>\n",
       "      <td>1.000000</td>\n",
       "      <td>0.312909</td>\n",
       "    </tr>\n",
       "    <tr>\n",
       "      <th>A1_18</th>\n",
       "      <td>0.010766</td>\n",
       "      <td>0.013525</td>\n",
       "      <td>0.010477</td>\n",
       "      <td>0.287870</td>\n",
       "      <td>0.241764</td>\n",
       "      <td>0.226426</td>\n",
       "      <td>0.312909</td>\n",
       "      <td>1.000000</td>\n",
       "    </tr>\n",
       "  </tbody>\n",
       "</table>\n",
       "</div>"
      ],
      "text/plain": [
       "             EDU       OCC    M_STAT     A1_02     A1_04     A1_05     A1_16  \\\n",
       "EDU     1.000000 -0.113808 -0.122610 -0.012371  0.035001  0.037014 -0.028055   \n",
       "OCC    -0.113808  1.000000 -0.272147  0.030223  0.015385 -0.016624 -0.013058   \n",
       "M_STAT -0.122610 -0.272147  1.000000 -0.038689 -0.018891  0.000167 -0.014946   \n",
       "A1_02  -0.012371  0.030223 -0.038689  1.000000  0.343099  0.207186  0.494684   \n",
       "A1_04   0.035001  0.015385 -0.018891  0.343099  1.000000  0.155536  0.352020   \n",
       "A1_05   0.037014 -0.016624  0.000167  0.207186  0.155536  1.000000  0.137731   \n",
       "A1_16  -0.028055 -0.013058 -0.014946  0.494684  0.352020  0.137731  1.000000   \n",
       "A1_18   0.010766  0.013525  0.010477  0.287870  0.241764  0.226426  0.312909   \n",
       "\n",
       "           A1_18  \n",
       "EDU     0.010766  \n",
       "OCC     0.013525  \n",
       "M_STAT  0.010477  \n",
       "A1_02   0.287870  \n",
       "A1_04   0.241764  \n",
       "A1_05   0.226426  \n",
       "A1_16   0.312909  \n",
       "A1_18   1.000000  "
      ]
     },
     "execution_count": 28,
     "metadata": {},
     "output_type": "execute_result"
    }
   ],
   "source": [
    "\n",
    "#I will be finding predictors for the questions that indicate personal grooming is only for going out, an indulgence or for people who are indulgent (ie. elite and glamorous people)\n",
    "\n",
    "groom[['EDU', 'OCC', 'M_STAT', 'A1_02', 'A1_04', 'A1_05',  'A1_16', 'A1_18']].corr()\n",
    "\n"
   ]
  },
  {
   "cell_type": "code",
   "execution_count": 30,
   "id": "bbcce823",
   "metadata": {},
   "outputs": [
    {
     "data": {
      "image/png": "[encoded data removed]",
      "text/plain": [
       "<Figure size 432x288 with 2 Axes>"
      ]
     },
     "metadata": {
      "needs_background": "light"
     },
     "output_type": "display_data"
    }
   ],
   "source": [
    "sns.heatmap(groom[['EDU', 'OCC', 'M_STAT', 'A1_02', 'A1_04', 'A1_05',  'A1_16', 'A1_18']].corr(), annot = True, cmap=\"YlGnBu\")\n",
    "heatmap = plt.title(\"Heatmap for Correlations Between Interviewee and Answers\")\n",
    "\n"
   ]
  },
  {
   "cell_type": "code",
   "execution_count": 31,
   "id": "ce325ab1",
   "metadata": {},
   "outputs": [
    {
     "data": {
      "text/plain": [
       "KMeans(n_clusters=4, random_state=1)"
      ]
     },
     "execution_count": 31,
     "metadata": {},
     "output_type": "execute_result"
    }
   ],
   "source": [
    "#import the sub-module\n",
    "X = groom[['EDU', 'OCC', 'M_STAT', 'A1_02', 'A1_04', 'A1_05',  'A1_16', 'A1_18']]\n",
    "\n",
    "from sklearn.cluster import KMeans\n",
    "\n",
    "# instantiate the model with 4 clusters\n",
    "km = KMeans(n_clusters=4, random_state=1)\n",
    "\n",
    "#fit the model\n",
    "km.fit(X)"
   ]
  },
  {
   "cell_type": "code",
   "execution_count": 32,
   "id": "94f083cf",
   "metadata": {},
   "outputs": [],
   "source": [
    "groom[\"cluster_number\"] = km.labels_"
   ]
  },
  {
   "cell_type": "code",
   "execution_count": 33,
   "id": "11f01ff5",
   "metadata": {},
   "outputs": [
    {
     "data": {
      "text/plain": [
       "1    1100\n",
       "2     984\n",
       "0     911\n",
       "3     504\n",
       "Name: cluster_number, dtype: int64"
      ]
     },
     "execution_count": 33,
     "metadata": {},
     "output_type": "execute_result"
    }
   ],
   "source": [
    "groom[\"cluster_number\"].value_counts()"
   ]
  },
  {
   "cell_type": "code",
   "execution_count": 37,
   "id": "eafe6d2b",
   "metadata": {},
   "outputs": [
    {
     "name": "stderr",
     "output_type": "stream",
     "text": [
      "/var/folders/wh/b0_ps7_d4tz_wy2lz168d7bw0000gn/T/ipykernel_29085/4070295839.py:1: FutureWarning: Indexing with multiple keys (implicitly converted to a tuple of keys) will be deprecated, use a list instead.\n",
      "  groom.groupby([\"cluster_number\"])['EDU', 'OCC', 'M_STAT', 'A1_02', 'A1_04', 'A1_05', 'A1_16', 'A1_18'].mean()\n"
     ]
    },
    {
     "data": {
      "text/html": [
       "<div>\n",
       "<style scoped>\n",
       "    .dataframe tbody tr th:only-of-type {\n",
       "        vertical-align: middle;\n",
       "    }\n",
       "\n",
       "    .dataframe tbody tr th {\n",
       "        vertical-align: top;\n",
       "    }\n",
       "\n",
       "    .dataframe thead th {\n",
       "        text-align: right;\n",
       "    }\n",
       "</style>\n",
       "<table border=\"1\" class=\"dataframe\">\n",
       "  <thead>\n",
       "    <tr style=\"text-align: right;\">\n",
       "      <th></th>\n",
       "      <th>EDU</th>\n",
       "      <th>OCC</th>\n",
       "      <th>M_STAT</th>\n",
       "      <th>A1_02</th>\n",
       "      <th>A1_04</th>\n",
       "      <th>A1_05</th>\n",
       "      <th>A1_16</th>\n",
       "      <th>A1_18</th>\n",
       "    </tr>\n",
       "    <tr>\n",
       "      <th>cluster_number</th>\n",
       "      <th></th>\n",
       "      <th></th>\n",
       "      <th></th>\n",
       "      <th></th>\n",
       "      <th></th>\n",
       "      <th></th>\n",
       "      <th></th>\n",
       "      <th></th>\n",
       "    </tr>\n",
       "  </thead>\n",
       "  <tbody>\n",
       "    <tr>\n",
       "      <th>0</th>\n",
       "      <td>5.649835</td>\n",
       "      <td>2.641054</td>\n",
       "      <td>1.818880</td>\n",
       "      <td>2.211855</td>\n",
       "      <td>3.156970</td>\n",
       "      <td>3.791438</td>\n",
       "      <td>2.102086</td>\n",
       "      <td>3.331504</td>\n",
       "    </tr>\n",
       "    <tr>\n",
       "      <th>1</th>\n",
       "      <td>5.315455</td>\n",
       "      <td>2.958182</td>\n",
       "      <td>1.960909</td>\n",
       "      <td>4.210909</td>\n",
       "      <td>4.203636</td>\n",
       "      <td>4.286364</td>\n",
       "      <td>4.177273</td>\n",
       "      <td>4.274545</td>\n",
       "    </tr>\n",
       "    <tr>\n",
       "      <th>2</th>\n",
       "      <td>6.119919</td>\n",
       "      <td>1.055894</td>\n",
       "      <td>1.664634</td>\n",
       "      <td>3.948171</td>\n",
       "      <td>4.099593</td>\n",
       "      <td>4.190041</td>\n",
       "      <td>3.980691</td>\n",
       "      <td>4.107724</td>\n",
       "    </tr>\n",
       "    <tr>\n",
       "      <th>3</th>\n",
       "      <td>5.956349</td>\n",
       "      <td>4.910714</td>\n",
       "      <td>1.095238</td>\n",
       "      <td>4.055556</td>\n",
       "      <td>4.057540</td>\n",
       "      <td>4.150794</td>\n",
       "      <td>3.890873</td>\n",
       "      <td>4.178571</td>\n",
       "    </tr>\n",
       "  </tbody>\n",
       "</table>\n",
       "</div>"
      ],
      "text/plain": [
       "                     EDU       OCC    M_STAT     A1_02     A1_04     A1_05  \\\n",
       "cluster_number                                                               \n",
       "0               5.649835  2.641054  1.818880  2.211855  3.156970  3.791438   \n",
       "1               5.315455  2.958182  1.960909  4.210909  4.203636  4.286364   \n",
       "2               6.119919  1.055894  1.664634  3.948171  4.099593  4.190041   \n",
       "3               5.956349  4.910714  1.095238  4.055556  4.057540  4.150794   \n",
       "\n",
       "                   A1_16     A1_18  \n",
       "cluster_number                      \n",
       "0               2.102086  3.331504  \n",
       "1               4.177273  4.274545  \n",
       "2               3.980691  4.107724  \n",
       "3               3.890873  4.178571  "
      ]
     },
     "execution_count": 37,
     "metadata": {},
     "output_type": "execute_result"
    }
   ],
   "source": [
    "groom.groupby([\"cluster_number\"])['EDU', 'OCC', 'M_STAT', 'A1_02', 'A1_04', 'A1_05', 'A1_16', 'A1_18'].mean()"
   ]
  },
  {
   "cell_type": "code",
   "execution_count": null,
   "id": "ce59b0da",
   "metadata": {},
   "outputs": [],
   "source": [
    "#Cluster 0: The Grooming Homemakers:\n",
    "    # Charasteristics: This cluster of respondents is similar to cluster 1 in that they tend to be in relationships and tend to be homemakers on average (rounded to the nearest category) but have a higher education level than Cluster 1.\n",
    "    # Attitude: They tend to disagree that personal grooming is only for the elite and glamourous. They tend to set time aside for grooming but do not feel very strongly about grooming as a once in a while activity, such as a party or an indulgence.\n",
    "    # Marketing: It may be easier to sell slightly cheaper, everyday grooming products to this segment who do not view grooming for the elite or glamorour and therefore could be more inclined to view it as an accessible, everyday product.\n",
    "#Cluster 1: Non-Grooming Homemakers: \n",
    "     #Characteristics: The cluster that has the highest tendency to be in a relationship and a homemaker shown by cluster averages. It is also the cluster with the lowest average educational attainment.\n",
    "     #Attitude: tend to see grooming as associated with the elite and glamorous. They also strongly agree that personal grooming is a once in a while activity as an indulgence or a specific occasion like a party. However they also strongly agreed with question 5, that personal grooming is important and time should be spent on it. \n",
    "     #Marketing: Promote 'party' personal grooming products, used once in a while (eg. party glitter, makeup etc.) to this target group.\n",
    "#Cluster 2: the educated worker: \n",
    "     #Charasterictics: The most educated cluster with a tendency to be educated at PG/UG or beyond based on average Education score. Has a higher tendency to be working full time on average.\n",
    "     #Attitude: Tendency to agree that personal grooming is important and time should be set aside for it. They also agreed on average that it is for the elite and glamorous people\n",
    "     #Marketing: Similarly, Promote 'party' personal grooming products, used once in a while (eg. party glitter, makeup etc.) to this target group.\n",
    "#Cluster 3: Single, students: \n",
    "     #Characteristics: An educated cluster (on average to UG/PG), with a high tendency towards being a student and the most likely to be single\n",
    "     #Attitude: Tendency to agree that personal grooming is important and time should be set aside for it. They also agreed on average that it is for the elite and glamorous people\n",
    "     #Promote 'party' personal grooming products, used once in a while (eg. party glitter, makeup etc.) to this target group.\n",
    "\n",
    "\n",
    "#Overall:\n",
    "#The group with the highest number of respondents was Cluster 1 and felt most strongly about grooming being for occasions (A1_18) but that time should be spent on it when you do groom(A1_05). This suggests that this could be a good group to market party/ big occasion personal grooming products. \n",
    "#Additionally, there is an association that can be made between clusters who agreed grooming was for elite/ glamorous people and something they did only for big occasions. This suggests that cluster 1-3 groomed in order to feel glamorous/ elite.\n",
    "#This gives us not only products to market (party, occasion products), an initial target group (Cluster 1) but also a marketing angle of personal grooming : promoting pesonal grooming as a way of feeling glamorous/ elite at big occasions. "
   ]
  }
 ],
 "metadata": {
  "kernelspec": {
   "display_name": "Python 3 (ipykernel)",
   "language": "python",
   "name": "python3"
  },
  "language_info": {
   "codemirror_mode": {
    "name": "ipython",
    "version": 3
   },
   "file_extension": ".py",
   "mimetype": "text/x-python",
   "name": "python",
   "nbconvert_exporter": "python",
   "pygments_lexer": "ipython3",
   "version": "3.9.12"
  }
 },
 "nbformat": 4,
 "nbformat_minor": 5
}
